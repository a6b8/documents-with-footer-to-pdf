{
 "cells": [
  {
   "cell_type": "markdown",
   "id": "410856ef",
   "metadata": {},
   "source": [
    "# Functions"
   ]
  },
  {
   "cell_type": "code",
   "execution_count": 61,
   "id": "e4101e57",
   "metadata": {},
   "outputs": [
    {
     "data": {
      "text/plain": [
       "\"MMMCCXXI\""
      ]
     },
     "execution_count": 61,
     "metadata": {},
     "output_type": "execute_result"
    }
   ],
   "source": [
    "\n",
    "\n",
    "\n",
    "roman_numerals( 3221 )"
   ]
  },
  {
   "cell_type": "markdown",
   "id": "ec3dacfa",
   "metadata": {},
   "source": [
    "# Execute"
   ]
  },
  {
   "cell_type": "code",
   "execution_count": null,
   "id": "1f3b6318",
   "metadata": {},
   "outputs": [],
   "source": []
  },
  {
   "cell_type": "code",
   "execution_count": 22,
   "id": "3675a14d",
   "metadata": {},
   "outputs": [
    {
     "data": {
      "text/plain": [
       "[\"A--headline--subheading\", \"A-wrong--subheadng\", \"A-wrong-subheading\", \"Z--this-is-it\"]"
      ]
     },
     "execution_count": 22,
     "metadata": {},
     "output_type": "execute_result"
    }
   ],
   "source": [
    "tests = [\n",
    "    'A--headline--subheading',\n",
    "    'A-wrong--subheadng',\n",
    "    'A-wrong-subheading',\n",
    "    'Z--this-is-it'\n",
    "]"
   ]
  },
  {
   "cell_type": "code",
   "execution_count": 66,
   "id": "4ef94c07",
   "metadata": {},
   "outputs": [
    {
     "data": {
      "text/plain": [
       ":roman_numerals"
      ]
     },
     "execution_count": 66,
     "metadata": {},
     "output_type": "execute_result"
    }
   ],
   "source": [
    "def roman_numerals( integer )\n",
    "  def next_lower_key( integer, values )\n",
    "    arabics = values.keys\n",
    "    next_lower_index = ( arabics.push( integer ).sort.index( integer ) ) - 1\n",
    "    arabics[next_lower_index]\n",
    "  end\n",
    "  \n",
    "  values = {\n",
    "    1=>\"I\",\n",
    "    4=>\"IV\",\n",
    "    5=>\"V\",\n",
    "    9=>\"IX\",\n",
    "    10=>\"X\",\n",
    "    40=>\"XL\",\n",
    "    50=>\"L\",\n",
    "    90=>\"XC\",\n",
    "    100=>\"C\",\n",
    "    400=>\"CD\",\n",
    "    500=>\"D\",\n",
    "    900=>\"CM\",\n",
    "    1000=>\"M\"\n",
    "  }\n",
    "  \n",
    "  roman = \"\"\n",
    "\n",
    "  while integer > 0\n",
    "    if values[integer]\n",
    "      roman += values[integer]\n",
    "      return roman\n",
    "    end\n",
    "\n",
    "    roman += values[next_lower_key(integer, values)]\n",
    "    integer -= next_lower_key(integer, values ) # decrement the arabic integer here\n",
    "  end\n",
    "end"
   ]
  },
  {
   "cell_type": "code",
   "execution_count": 79,
   "id": "cdbac004",
   "metadata": {},
   "outputs": [
    {
     "data": {
      "text/plain": [
       "0..3"
      ]
     },
     "execution_count": 79,
     "metadata": {},
     "output_type": "execute_result"
    }
   ],
   "source": [
    "def roman_numerals( integer )\n",
    "  def next_lower_key( integer, values )\n",
    "    arabics = values.keys\n",
    "    next_lower_index = ( arabics.push( integer ).sort.index( integer ) ) - 1\n",
    "    arabics[next_lower_index]\n",
    "  end\n",
    "  \n",
    "  values = {\n",
    "    1 => 'I',\n",
    "    4 => 'IV',\n",
    "    5 => 'V',\n",
    "    9 => 'IX',\n",
    "    10 => 'X',\n",
    "    40 => 'XL',\n",
    "    50 => 'L',\n",
    "    90 => 'XC',\n",
    "    100 => 'C',\n",
    "    400 => 'CD',\n",
    "    500 => 'D',\n",
    "    900 => 'CM',\n",
    "    1000 => 'M'\n",
    "  }\n",
    "  \n",
    "  roman = ''\n",
    "  while integer > 0\n",
    "    if values[ integer ]\n",
    "      roman += values[ integer ]\n",
    "      return roman\n",
    "    end\n",
    "\n",
    "    roman += values[ next_lower_key( integer, values ) ]\n",
    "    integer -= next_lower_key( integer, values )\n",
    "  end\n",
    "end\n",
    "\n",
    "\n",
    "def create_selectors( str, alpha )\n",
    "  item = { \n",
    "    selectors: true,\n",
    "    heading: nil,\n",
    "    subheading: nil,\n",
    "    enumerator: {\n",
    "      original: nil,\n",
    "      char: nil,\n",
    "      integer: nil,\n",
    "      roman: nil\n",
    "    } \n",
    "  }\n",
    "  \n",
    "  a = str.split( '--' )\n",
    "  item[:enumerator][:original] = a[ 0 ]\n",
    "  case a.length\n",
    "    when 2\n",
    "      item[:heading] = a[ 1 ]\n",
    "    when 3\n",
    "      item[:heading] = a[ 1 ]\n",
    "      item[:subheading] = a[ 2 ]\n",
    "  end\n",
    "\n",
    "  if /\\A[-+]?[0-9]+\\z/.match( item[:enumerator][:original] ).to_a.length != 0\n",
    "    item[:enumerator][:integer] = item[:enumerator][:original].to_i\n",
    "    item[:enumerator][:roman] = roman_numerals( item[:enumerator][:integer] )\n",
    "  else\n",
    "    item[:enumerator][:char] = item[:enumerator][:original].upcase\n",
    "    item[:enumerator][:roman] = roman_numerals( alpha.index( item[:enumerator][:char] ) + 1 )\n",
    "  end\n",
    "  \n",
    "  return item\n",
    "end \n",
    "\n",
    "\n",
    "alpha = ( 'A'.upto( 'Z' ) ).to_a\n",
    "\n",
    "items = []\n",
    "for index in 0..tests.length-1\n",
    "  test = tests[ index ]\n",
    "  if test.index( '--' ) == 1\n",
    "    item = create_selectors( test, alpha )\n",
    "  else\n",
    "    item = { selectors: false }\n",
    "  end\n",
    "  items.push( item )\n",
    "end\n"
   ]
  },
  {
   "cell_type": "code",
   "execution_count": 67,
   "id": "5fcd5d33",
   "metadata": {},
   "outputs": [
    {
     "data": {
      "text/plain": [
       "25"
      ]
     },
     "execution_count": 67,
     "metadata": {},
     "output_type": "execute_result"
    }
   ],
   "source": [
    "alpha.index( r[ 3 ][ 0 ] )"
   ]
  },
  {
   "cell_type": "code",
   "execution_count": 32,
   "id": "89b233f2",
   "metadata": {},
   "outputs": [
    {
     "data": {
      "text/plain": [
       "2"
      ]
     },
     "execution_count": 32,
     "metadata": {},
     "output_type": "execute_result"
    }
   ],
   "source": [
    "tests[ 3 ].split('--').length"
   ]
  },
  {
   "cell_type": "code",
   "execution_count": 53,
   "id": "bf2e0d45",
   "metadata": {},
   "outputs": [
    {
     "data": {
      "text/plain": [
       "true"
      ]
     },
     "execution_count": 53,
     "metadata": {},
     "output_type": "execute_result"
    }
   ],
   "source": []
  },
  {
   "cell_type": "code",
   "execution_count": 65,
   "id": "16ff999b",
   "metadata": {},
   "outputs": [
    {
     "ename": "SyntaxError",
     "evalue": "(irb):1: syntax error, unexpected ':', expecting =>\n    1:\"I\",\n     ^\n(irb):1: syntax error, unexpected ',', expecting end-of-input\n    1:\"I\",\n         ^\n",
     "output_type": "error",
     "traceback": [
      "\u001b[31mSyntaxError\u001b[0m: (irb):1: syntax error, unexpected ':', expecting =>\n    1:\"I\",\n     ^\n(irb):1: syntax error, unexpected ',', expecting end-of-input\n    1:\"I\",\n         ^\n"
     ]
    }
   ],
   "source": [
    "  values = {\n",
    "    1:\"I\",\n",
    "    4:\"IV\",\n",
    "    5:\"V\",\n",
    "    9:\"IX\",\n",
    "    10:\"X\",\n",
    "    40:\"XL\",\n",
    "    50:\"L\",\n",
    "    90:\"XC\",\n",
    "    100:\"C\",\n",
    "    400:\"CD\",\n",
    "    500:\"D\",\n",
    "    900:\"CM\",\n",
    "    1000:\"M\"\n",
    "  }"
   ]
  },
  {
   "cell_type": "code",
   "execution_count": 80,
   "id": "aa631a13",
   "metadata": {},
   "outputs": [
    {
     "data": {
      "text/plain": [
       "\"\""
      ]
     },
     "execution_count": 80,
     "metadata": {},
     "output_type": "execute_result"
    }
   ],
   "source": [
    "nil.to_s"
   ]
  },
  {
   "cell_type": "code",
   "execution_count": 1,
   "id": "b3199946",
   "metadata": {},
   "outputs": [
    {
     "name": "stdout",
     "output_type": "stream",
     "text": [
      "\n"
     ]
    }
   ],
   "source": [
    "t = [\"/Users/andreasbanholzer/PROJEKTE/2020-04-28--bewerbungen/1-bewerbungen/49-gründerwettbewerb/2-statistiken/0-research/0-ethereum/tmp/0-jpg/0-result-1624435489-0.jpg\", \"/Users/andreasbanholzer/PROJEKTE/2020-04-28--bewerbungen/1-bewerbungen/49-gründerwettbewerb/2-statistiken/0-research/0-ethereum/tmp/0-jpg/0-result-1624435489-1.jpg\", \"/Users/andreasbanholzer/PROJEKTE/2020-04-28--bewerbungen/1-bewerbungen/49-gründerwettbewerb/2-statistiken/0-research/0-ethereum/tmp/0-jpg/0-result-1624435489-10.jpg\", \"/Users/andreasbanholzer/PROJEKTE/2020-04-28--bewerbungen/1-bewerbungen/49-gründerwettbewerb/2-statistiken/0-research/0-ethereum/tmp/0-jpg/0-result-1624435489-11.jpg\", \"/Users/andreasbanholzer/PROJEKTE/2020-04-28--bewerbungen/1-bewerbungen/49-gründerwettbewerb/2-statistiken/0-research/0-ethereum/tmp/0-jpg/0-result-1624435489-12.jpg\", \"/Users/andreasbanholzer/PROJEKTE/2020-04-28--bewerbungen/1-bewerbungen/49-gründerwettbewerb/2-statistiken/0-research/0-ethereum/tmp/0-jpg/0-result-1624435489-13.jpg\", \"/Users/andreasbanholzer/PROJEKTE/2020-04-28--bewerbungen/1-bewerbungen/49-gründerwettbewerb/2-statistiken/0-research/0-ethereum/tmp/0-jpg/0-result-1624435489-14.jpg\", \"/Users/andreasbanholzer/PROJEKTE/2020-04-28--bewerbungen/1-bewerbungen/49-gründerwettbewerb/2-statistiken/0-research/0-ethereum/tmp/0-jpg/0-result-1624435489-15.jpg\", \"/Users/andreasbanholzer/PROJEKTE/2020-04-28--bewerbungen/1-bewerbungen/49-gründerwettbewerb/2-statistiken/0-research/0-ethereum/tmp/0-jpg/0-result-1624435489-16.jpg\", \"/Users/andreasbanholzer/PROJEKTE/2020-04-28--bewerbungen/1-bewerbungen/49-gründerwettbewerb/2-statistiken/0-research/0-ethereum/tmp/0-jpg/0-result-1624435489-17.jpg\", \"/Users/andreasbanholzer/PROJEKTE/2020-04-28--bewerbungen/1-bewerbungen/49-gründerwettbewerb/2-statistiken/0-research/0-ethereum/tmp/0-jpg/0-result-1624435489-18.jpg\", \"/Users/andreasbanholzer/PROJEKTE/2020-04-28--bewerbungen/1-bewerbungen/49-gründerwettbewerb/2-statistiken/0-research/0-ethereum/tmp/0-jpg/0-result-1624435489-19.jpg\", \"/Users/andreasbanholzer/PROJEKTE/2020-04-28--bewerbungen/1-bewerbungen/49-gründerwettbewerb/2-statistiken/0-research/0-ethereum/tmp/0-jpg/0-result-1624435489-2.jpg\", \"/Users/andreasbanholzer/PROJEKTE/2020-04-28--bewerbungen/1-bewerbungen/49-gründerwettbewerb/2-statistiken/0-research/0-ethereum/tmp/0-jpg/0-result-1624435489-20.jpg\", \"/Users/andreasbanholzer/PROJEKTE/2020-04-28--bewerbungen/1-bewerbungen/49-gründerwettbewerb/2-statistiken/0-research/0-ethereum/tmp/0-jpg/0-result-1624435489-3.jpg\", \"/Users/andreasbanholzer/PROJEKTE/2020-04-28--bewerbungen/1-bewerbungen/49-gründerwettbewerb/2-statistiken/0-research/0-ethereum/tmp/0-jpg/0-result-1624435489-4.jpg\", \"/Users/andreasbanholzer/PROJEKTE/2020-04-28--bewerbungen/1-bewerbungen/49-gründerwettbewerb/2-statistiken/0-research/0-ethereum/tmp/0-jpg/0-result-1624435489-5.jpg\", \"/Users/andreasbanholzer/PROJEKTE/2020-04-28--bewerbungen/1-bewerbungen/49-gründerwettbewerb/2-statistiken/0-research/0-ethereum/tmp/0-jpg/0-result-1624435489-6.jpg\", \"/Users/andreasbanholzer/PROJEKTE/2020-04-28--bewerbungen/1-bewerbungen/49-gründerwettbewerb/2-statistiken/0-research/0-ethereum/tmp/0-jpg/0-result-1624435489-7.jpg\", \"/Users/andreasbanholzer/PROJEKTE/2020-04-28--bewerbungen/1-bewerbungen/49-gründerwettbewerb/2-statistiken/0-research/0-ethereum/tmp/0-jpg/0-result-1624435489-8.jpg\", \"/Users/andreasbanholzer/PROJEKTE/2020-04-28--bewerbungen/1-bewerbungen/49-gründerwettbewerb/2-statistiken/0-research/0-ethereum/tmp/0-jpg/0-result-1624435489-9.jpg\", \"/Users/andreasbanholzer/PROJEKTE/2020-04-28--bewerbungen/1-bewerbungen/49-gründerwettbewerb/2-statistiken/0-research/0-ethereum/tmp/0-jpg/0-result-1624435857-0.jpg\", \"/Users/andreasbanholzer/PROJEKTE/2020-04-28--bewerbungen/1-bewerbungen/49-gründerwettbewerb/2-statistiken/0-research/0-ethereum/tmp/0-jpg/0-result-1624435857-1.jpg\", \"/Users/andreasbanholzer/PROJEKTE/2020-04-28--bewerbungen/1-bewerbungen/49-gründerwettbewerb/2-statistiken/0-research/0-ethereum/tmp/0-jpg/0-result-1624435857-10.jpg\", \"/Users/andreasbanholzer/PROJEKTE/2020-04-28--bewerbungen/1-bewerbungen/49-gründerwettbewerb/2-statistiken/0-research/0-ethereum/tmp/0-jpg/0-result-1624435857-11.jpg\", \"/Users/andreasbanholzer/PROJEKTE/2020-04-28--bewerbungen/1-bewerbungen/49-gründerwettbewerb/2-statistiken/0-research/0-ethereum/tmp/0-jpg/0-result-1624435857-12.jpg\", \"/Users/andreasbanholzer/PROJEKTE/2020-04-28--bewerbungen/1-bewerbungen/49-gründerwettbewerb/2-statistiken/0-research/0-ethereum/tmp/0-jpg/0-result-1624435857-13.jpg\", \"/Users/andreasbanholzer/PROJEKTE/2020-04-28--bewerbungen/1-bewerbungen/49-gründerwettbewerb/2-statistiken/0-research/0-ethereum/tmp/0-jpg/0-result-1624435857-14.jpg\", \"/Users/andreasbanholzer/PROJEKTE/2020-04-28--bewerbungen/1-bewerbungen/49-gründerwettbewerb/2-statistiken/0-research/0-ethereum/tmp/0-jpg/0-result-1624435857-15.jpg\", \"/Users/andreasbanholzer/PROJEKTE/2020-04-28--bewerbungen/1-bewerbungen/49-gründerwettbewerb/2-statistiken/0-research/0-ethereum/tmp/0-jpg/0-result-1624435857-16.jpg\", \"/Users/andreasbanholzer/PROJEKTE/2020-04-28--bewerbungen/1-bewerbungen/49-gründerwettbewerb/2-statistiken/0-research/0-ethereum/tmp/0-jpg/0-result-1624435857-17.jpg\", \"/Users/andreasbanholzer/PROJEKTE/2020-04-28--bewerbungen/1-bewerbungen/49-gründerwettbewerb/2-statistiken/0-research/0-ethereum/tmp/0-jpg/0-result-1624435857-18.jpg\", \"/Users/andreasbanholzer/PROJEKTE/2020-04-28--bewerbungen/1-bewerbungen/49-gründerwettbewerb/2-statistiken/0-research/0-ethereum/tmp/0-jpg/0-result-1624435857-19.jpg\", \"/Users/andreasbanholzer/PROJEKTE/2020-04-28--bewerbungen/1-bewerbungen/49-gründerwettbewerb/2-statistiken/0-research/0-ethereum/tmp/0-jpg/0-result-1624435857-2.jpg\", \"/Users/andreasbanholzer/PROJEKTE/2020-04-28--bewerbungen/1-bewerbungen/49-gründerwettbewerb/2-statistiken/0-research/0-ethereum/tmp/0-jpg/0-result-1624435857-20.jpg\", \"/Users/andreasbanholzer/PROJEKTE/2020-04-28--bewerbungen/1-bewerbungen/49-gründerwettbewerb/2-statistiken/0-research/0-ethereum/tmp/0-jpg/0-result-1624435857-21.jpg\", \"/Users/andreasbanholzer/PROJEKTE/2020-04-28--bewerbungen/1-bewerbungen/49-gründerwettbewerb/2-statistiken/0-research/0-ethereum/tmp/0-jpg/0-result-1624435857-22.jpg\", \"/Users/andreasbanholzer/PROJEKTE/2020-04-28--bewerbungen/1-bewerbungen/49-gründerwettbewerb/2-statistiken/0-research/0-ethereum/tmp/0-jpg/0-result-1624435857-23.jpg\", \"/Users/andreasbanholzer/PROJEKTE/2020-04-28--bewerbungen/1-bewerbungen/49-gründerwettbewerb/2-statistiken/0-research/0-ethereum/tmp/0-jpg/0-result-1624435857-24.jpg\", \"/Users/andreasbanholzer/PROJEKTE/2020-04-28--bewerbungen/1-bewerbungen/49-gründerwettbewerb/2-statistiken/0-research/0-ethereum/tmp/0-jpg/0-result-1624435857-25.jpg\", \"/Users/andreasbanholzer/PROJEKTE/2020-04-28--bewerbungen/1-bewerbungen/49-gründerwettbewerb/2-statistiken/0-research/0-ethereum/tmp/0-jpg/0-result-1624435857-26.jpg\", \"/Users/andreasbanholzer/PROJEKTE/2020-04-28--bewerbungen/1-bewerbungen/49-gründerwettbewerb/2-statistiken/0-research/0-ethereum/tmp/0-jpg/0-result-1624435857-27.jpg\", \"/Users/andreasbanholzer/PROJEKTE/2020-04-28--bewerbungen/1-bewerbungen/49-gründerwettbewerb/2-statistiken/0-research/0-ethereum/tmp/0-jpg/0-result-1624435857-28.jpg\", \"/Users/andreasbanholzer/PROJEKTE/2020-04-28--bewerbungen/1-bewerbungen/49-gründerwettbewerb/2-statistiken/0-research/0-ethereum/tmp/0-jpg/0-result-1624435857-29.jpg\", \"/Users/andreasbanholzer/PROJEKTE/2020-04-28--bewerbungen/1-bewerbungen/49-gründerwettbewerb/2-statistiken/0-research/0-ethereum/tmp/0-jpg/0-result-1624435857-3.jpg\", \"/Users/andreasbanholzer/PROJEKTE/2020-04-28--bewerbungen/1-bewerbungen/49-gründerwettbewerb/2-statistiken/0-research/0-ethereum/tmp/0-jpg/0-result-1624435857-30.jpg\", \"/Users/andreasbanholzer/PROJEKTE/2020-04-28--bewerbungen/1-bewerbungen/49-gründerwettbewerb/2-statistiken/0-research/0-ethereum/tmp/0-jpg/0-result-1624435857-31.jpg\", \"/Users/andreasbanholzer/PROJEKTE/2020-04-28--bewerbungen/1-bewerbungen/49-gründerwettbewerb/2-statistiken/0-research/0-ethereum/tmp/0-jpg/0-result-1624435857-32.jpg\", \"/Users/andreasbanholzer/PROJEKTE/2020-04-28--bewerbungen/1-bewerbungen/49-gründerwettbewerb/2-statistiken/0-research/0-ethereum/tmp/0-jpg/0-result-1624435857-33.jpg\", \"/Users/andreasbanholzer/PROJEKTE/2020-04-28--bewerbungen/1-bewerbungen/49-gründerwettbewerb/2-statistiken/0-research/0-ethereum/tmp/0-jpg/0-result-1624435857-34.jpg\", \"/Users/andreasbanholzer/PROJEKTE/2020-04-28--bewerbungen/1-bewerbungen/49-gründerwettbewerb/2-statistiken/0-research/0-ethereum/tmp/0-jpg/0-result-1624435857-35.jpg\", \"/Users/andreasbanholzer/PROJEKTE/2020-04-28--bewerbungen/1-bewerbungen/49-gründerwettbewerb/2-statistiken/0-research/0-ethereum/tmp/0-jpg/0-result-1624435857-36.jpg\", \"/Users/andreasbanholzer/PROJEKTE/2020-04-28--bewerbungen/1-bewerbungen/49-gründerwettbewerb/2-statistiken/0-research/0-ethereum/tmp/0-jpg/0-result-1624435857-37.jpg\", \"/Users/andreasbanholzer/PROJEKTE/2020-04-28--bewerbungen/1-bewerbungen/49-gründerwettbewerb/2-statistiken/0-research/0-ethereum/tmp/0-jpg/0-result-1624435857-38.jpg\", \"/Users/andreasbanholzer/PROJEKTE/2020-04-28--bewerbungen/1-bewerbungen/49-gründerwettbewerb/2-statistiken/0-research/0-ethereum/tmp/0-jpg/0-result-1624435857-39.jpg\", \"/Users/andreasbanholzer/PROJEKTE/2020-04-28--bewerbungen/1-bewerbungen/49-gründerwettbewerb/2-statistiken/0-research/0-ethereum/tmp/0-jpg/0-result-1624435857-4.jpg\", \"/Users/andreasbanholzer/PROJEKTE/2020-04-28--bewerbungen/1-bewerbungen/49-gründerwettbewerb/2-statistiken/0-research/0-ethereum/tmp/0-jpg/0-result-1624435857-40.jpg\", \"/Users/andreasbanholzer/PROJEKTE/2020-04-28--bewerbungen/1-bewerbungen/49-gründerwettbewerb/2-statistiken/0-research/0-ethereum/tmp/0-jpg/0-result-1624435857-41.jpg\", \"/Users/andreasbanholzer/PROJEKTE/2020-04-28--bewerbungen/1-bewerbungen/49-gründerwettbewerb/2-statistiken/0-research/0-ethereum/tmp/0-jpg/0-result-1624435857-5.jpg\", \"/Users/andreasbanholzer/PROJEKTE/2020-04-28--bewerbungen/1-bewerbungen/49-gründerwettbewerb/2-statistiken/0-research/0-ethereum/tmp/0-jpg/0-result-1624435857-6.jpg\", \"/Users/andreasbanholzer/PROJEKTE/2020-04-28--bewerbungen/1-bewerbungen/49-gründerwettbewerb/2-statistiken/0-research/0-ethereum/tmp/0-jpg/0-result-1624435857-7.jpg\", \"/Users/andreasbanholzer/PROJEKTE/2020-04-28--bewerbungen/1-bewerbungen/49-gründerwettbewerb/2-statistiken/0-research/0-ethereum/tmp/0-jpg/0-result-1624435857-8.jpg\", \"/Users/andreasbanholzer/PROJEKTE/2020-04-28--bewerbungen/1-bewerbungen/49-gründerwettbewerb/2-statistiken/0-research/0-ethereum/tmp/0-jpg/0-result-1624435857-9.jpg\", \"/Users/andreasbanholzer/PROJEKTE/2020-04-28--bewerbungen/1-bewerbungen/49-gründerwettbewerb/2-statistiken/0-research/0-ethereum/tmp/0-jpg/1.jpg\", \"/Users/andreasbanholzer/PROJEKTE/2020-04-28--bewerbungen/1-bewerbungen/49-gründerwettbewerb/2-statistiken/0-research/0-ethereum/tmp/0-jpg/10.jpg\", \"/Users/andreasbanholzer/PROJEKTE/2020-04-28--bewerbungen/1-bewerbungen/49-gründerwettbewerb/2-statistiken/0-research/0-ethereum/tmp/0-jpg/11.jpg\", \"/Users/andreasbanholzer/PROJEKTE/2020-04-28--bewerbungen/1-bewerbungen/49-gründerwettbewerb/2-statistiken/0-research/0-ethereum/tmp/0-jpg/12.jpg\", \"/Users/andreasbanholzer/PROJEKTE/2020-04-28--bewerbungen/1-bewerbungen/49-gründerwettbewerb/2-statistiken/0-research/0-ethereum/tmp/0-jpg/2.jpg\", \"/Users/andreasbanholzer/PROJEKTE/2020-04-28--bewerbungen/1-bewerbungen/49-gründerwettbewerb/2-statistiken/0-research/0-ethereum/tmp/0-jpg/3.jpg\", \"/Users/andreasbanholzer/PROJEKTE/2020-04-28--bewerbungen/1-bewerbungen/49-gründerwettbewerb/2-statistiken/0-research/0-ethereum/tmp/0-jpg/4.jpg\", \"/Users/andreasbanholzer/PROJEKTE/2020-04-28--bewerbungen/1-bewerbungen/49-gründerwettbewerb/2-statistiken/0-research/0-ethereum/tmp/0-jpg/5.jpg\", \"/Users/andreasbanholzer/PROJEKTE/2020-04-28--bewerbungen/1-bewerbungen/49-gründerwettbewerb/2-statistiken/0-research/0-ethereum/tmp/0-jpg/6.jpg\", \"/Users/andreasbanholzer/PROJEKTE/2020-04-28--bewerbungen/1-bewerbungen/49-gründerwettbewerb/2-statistiken/0-research/0-ethereum/tmp/0-jpg/7.jpg\", \"/Users/andreasbanholzer/PROJEKTE/2020-04-28--bewerbungen/1-bewerbungen/49-gründerwettbewerb/2-statistiken/0-research/0-ethereum/tmp/0-jpg/8.jpg\", \"/Users/andreasbanholzer/PROJEKTE/2020-04-28--bewerbungen/1-bewerbungen/49-gründerwettbewerb/2-statistiken/0-research/0-ethereum/tmp/0-jpg/9.jpg\", \"/Users/andreasbanholzer/PROJEKTE/2020-04-28--bewerbungen/1-bewerbungen/49-gründerwettbewerb/2-statistiken/0-research/0-ethereum/tmp/0-jpg/A-ethereum-eip-overview-0.jpg\", \"/Users/andreasbanholzer/PROJEKTE/2020-04-28--bewerbungen/1-bewerbungen/49-gründerwettbewerb/2-statistiken/0-research/0-ethereum/tmp/0-jpg/A-ethereum-eip-overview-1.jpg\", \"/Users/andreasbanholzer/PROJEKTE/2020-04-28--bewerbungen/1-bewerbungen/49-gründerwettbewerb/2-statistiken/0-research/0-ethereum/tmp/0-jpg/A-ethereum-eip-overview-2.jpg\", \"/Users/andreasbanholzer/PROJEKTE/2020-04-28--bewerbungen/1-bewerbungen/49-gründerwettbewerb/2-statistiken/0-research/0-ethereum/tmp/0-jpg/A-ethereum-eip-overview-3.jpg\", \"/Users/andreasbanholzer/PROJEKTE/2020-04-28--bewerbungen/1-bewerbungen/49-gründerwettbewerb/2-statistiken/0-research/0-ethereum/tmp/0-jpg/B-ethereum-erc20-overview-0.jpg\", \"/Users/andreasbanholzer/PROJEKTE/2020-04-28--bewerbungen/1-bewerbungen/49-gründerwettbewerb/2-statistiken/0-research/0-ethereum/tmp/0-jpg/B-ethereum-erc20-overview-1.jpg\", \"/Users/andreasbanholzer/PROJEKTE/2020-04-28--bewerbungen/1-bewerbungen/49-gründerwettbewerb/2-statistiken/0-research/0-ethereum/tmp/0-jpg/B-ethereum-erc20-overview-2.jpg\", \"/Users/andreasbanholzer/PROJEKTE/2020-04-28--bewerbungen/1-bewerbungen/49-gründerwettbewerb/2-statistiken/0-research/0-ethereum/tmp/0-jpg/C-ethereum-erc721-overview.pdf-0.jpg\", \"/Users/andreasbanholzer/PROJEKTE/2020-04-28--bewerbungen/1-bewerbungen/49-gründerwettbewerb/2-statistiken/0-research/0-ethereum/tmp/0-jpg/C-ethereum-erc721-overview.pdf-1.jpg\", \"/Users/andreasbanholzer/PROJEKTE/2020-04-28--bewerbungen/1-bewerbungen/49-gründerwettbewerb/2-statistiken/0-research/0-ethereum/A-images/1.png\", \"/Users/andreasbanholzer/PROJEKTE/2020-04-28--bewerbungen/1-bewerbungen/49-gründerwettbewerb/2-statistiken/0-research/0-ethereum/A-images/10.png\", \"/Users/andreasbanholzer/PROJEKTE/2020-04-28--bewerbungen/1-bewerbungen/49-gründerwettbewerb/2-statistiken/0-research/0-ethereum/A-images/11.png\", \"/Users/andreasbanholzer/PROJEKTE/2020-04-28--bewerbungen/1-bewerbungen/49-gründerwettbewerb/2-statistiken/0-research/0-ethereum/A-images/12.png\", \"/Users/andreasbanholzer/PROJEKTE/2020-04-28--bewerbungen/1-bewerbungen/49-gründerwettbewerb/2-statistiken/0-research/0-ethereum/A-images/2.png\", \"/Users/andreasbanholzer/PROJEKTE/2020-04-28--bewerbungen/1-bewerbungen/49-gründerwettbewerb/2-statistiken/0-research/0-ethereum/A-images/3.png\", \"/Users/andreasbanholzer/PROJEKTE/2020-04-28--bewerbungen/1-bewerbungen/49-gründerwettbewerb/2-statistiken/0-research/0-ethereum/A-images/5.png\", \"/Users/andreasbanholzer/PROJEKTE/2020-04-28--bewerbungen/1-bewerbungen/49-gründerwettbewerb/2-statistiken/0-research/0-ethereum/A-images/6.png\", \"/Users/andreasbanholzer/PROJEKTE/2020-04-28--bewerbungen/1-bewerbungen/49-gründerwettbewerb/2-statistiken/0-research/0-ethereum/A-images/7.png\", \"/Users/andreasbanholzer/PROJEKTE/2020-04-28--bewerbungen/1-bewerbungen/49-gründerwettbewerb/2-statistiken/0-research/0-ethereum/A-images/9.png\", \"/Users/andreasbanholzer/PROJEKTE/2020-04-28--bewerbungen/1-bewerbungen/49-gründerwettbewerb/2-statistiken/0-research/0-ethereum/B-images/1.png\", \"/Users/andreasbanholzer/PROJEKTE/2020-04-28--bewerbungen/1-bewerbungen/49-gründerwettbewerb/2-statistiken/0-research/0-ethereum/B-images/2.png\", \"/Users/andreasbanholzer/PROJEKTE/2020-04-28--bewerbungen/1-bewerbungen/49-gründerwettbewerb/2-statistiken/0-research/0-ethereum/B-images/3.png\", \"/Users/andreasbanholzer/PROJEKTE/2020-04-28--bewerbungen/1-bewerbungen/49-gründerwettbewerb/2-statistiken/0-research/0-ethereum/B-images/4.png\", \"/Users/andreasbanholzer/PROJEKTE/2020-04-28--bewerbungen/1-bewerbungen/49-gründerwettbewerb/2-statistiken/0-research/0-ethereum/B-images/5.png\", \"/Users/andreasbanholzer/PROJEKTE/2020-04-28--bewerbungen/1-bewerbungen/49-gründerwettbewerb/2-statistiken/0-research/0-ethereum/B-images/6.png\", \"/Users/andreasbanholzer/PROJEKTE/2020-04-28--bewerbungen/1-bewerbungen/49-gründerwettbewerb/2-statistiken/0-research/0-ethereum/B-images/7.png\", \"/Users/andreasbanholzer/PROJEKTE/2020-04-28--bewerbungen/1-bewerbungen/49-gründerwettbewerb/2-statistiken/0-research/0-ethereum/B-images/8.png\", \"/Users/andreasbanholzer/PROJEKTE/2020-04-28--bewerbungen/1-bewerbungen/49-gründerwettbewerb/2-statistiken/0-research/0-ethereum/C-images/1.png\", \"/Users/andreasbanholzer/PROJEKTE/2020-04-28--bewerbungen/1-bewerbungen/49-gründerwettbewerb/2-statistiken/0-research/0-ethereum/C-images/2.png\", \"/Users/andreasbanholzer/PROJEKTE/2020-04-28--bewerbungen/1-bewerbungen/49-gründerwettbewerb/2-statistiken/0-research/0-ethereum/C-images/3.png\", \"/Users/andreasbanholzer/PROJEKTE/2020-04-28--bewerbungen/1-bewerbungen/49-gründerwettbewerb/2-statistiken/0-research/0-ethereum/C-images/4.png\", \"/Users/andreasbanholzer/PROJEKTE/2020-04-28--bewerbungen/1-bewerbungen/49-gründerwettbewerb/2-statistiken/0-research/0-ethereum/C-images/5.png\", \"/Users/andreasbanholzer/PROJEKTE/2020-04-28--bewerbungen/1-bewerbungen/49-gründerwettbewerb/2-statistiken/0-research/0-ethereum/0-result/0-result-1624435489.pdf\", \"/Users/andreasbanholzer/PROJEKTE/2020-04-28--bewerbungen/1-bewerbungen/49-gründerwettbewerb/2-statistiken/0-research/0-ethereum/0-result/0-result-1624435857.pdf\", \"/Users/andreasbanholzer/PROJEKTE/2020-04-28--bewerbungen/1-bewerbungen/49-gründerwettbewerb/2-statistiken/0-research/0-ethereum/0-result/0-result-1624436150.pdf\", \"/Users/andreasbanholzer/PROJEKTE/2020-04-28--bewerbungen/1-bewerbungen/49-gründerwettbewerb/2-statistiken/0-research/0-ethereum/A-ethereum-eip-overview.pdf\", \"/Users/andreasbanholzer/PROJEKTE/2020-04-28--bewerbungen/1-bewerbungen/49-gründerwettbewerb/2-statistiken/0-research/0-ethereum/B-ethereum-erc20-overview.pdf\", \"/Users/andreasbanholzer/PROJEKTE/2020-04-28--bewerbungen/1-bewerbungen/49-gründerwettbewerb/2-statistiken/0-research/0-ethereum/C-ethereum-erc721-overview.pdf.pdf\", \"/Users/andreasbanholzer/PROJEKTE/2020-04-28--bewerbungen/1-bewerbungen/49-gründerwettbewerb/2-statistiken/0-research/0-ethereum/tmp/1-pdf-single--w-footer/0-result-1624435489-0.pdf\", \"/Users/andreasbanholzer/PROJEKTE/2020-04-28--bewerbungen/1-bewerbungen/49-gründerwettbewerb/2-statistiken/0-research/0-ethereum/tmp/1-pdf-single--w-footer/0-result-1624435489-1.pdf\", \"/Users/andreasbanholzer/PROJEKTE/2020-04-28--bewerbungen/1-bewerbungen/49-gründerwettbewerb/2-statistiken/0-research/0-ethereum/tmp/1-pdf-single--w-footer/0-result-1624435489-10.pdf\", \"/Users/andreasbanholzer/PROJEKTE/2020-04-28--bewerbungen/1-bewerbungen/49-gründerwettbewerb/2-statistiken/0-research/0-ethereum/tmp/1-pdf-single--w-footer/0-result-1624435489-11.pdf\", \"/Users/andreasbanholzer/PROJEKTE/2020-04-28--bewerbungen/1-bewerbungen/49-gründerwettbewerb/2-statistiken/0-research/0-ethereum/tmp/1-pdf-single--w-footer/0-result-1624435489-12.pdf\", \"/Users/andreasbanholzer/PROJEKTE/2020-04-28--bewerbungen/1-bewerbungen/49-gründerwettbewerb/2-statistiken/0-research/0-ethereum/tmp/1-pdf-single--w-footer/0-result-1624435489-13.pdf\", \"/Users/andreasbanholzer/PROJEKTE/2020-04-28--bewerbungen/1-bewerbungen/49-gründerwettbewerb/2-statistiken/0-research/0-ethereum/tmp/1-pdf-single--w-footer/0-result-1624435489-14.pdf\", \"/Users/andreasbanholzer/PROJEKTE/2020-04-28--bewerbungen/1-bewerbungen/49-gründerwettbewerb/2-statistiken/0-research/0-ethereum/tmp/1-pdf-single--w-footer/0-result-1624435489-15.pdf\", \"/Users/andreasbanholzer/PROJEKTE/2020-04-28--bewerbungen/1-bewerbungen/49-gründerwettbewerb/2-statistiken/0-research/0-ethereum/tmp/1-pdf-single--w-footer/0-result-1624435489-16.pdf\", \"/Users/andreasbanholzer/PROJEKTE/2020-04-28--bewerbungen/1-bewerbungen/49-gründerwettbewerb/2-statistiken/0-research/0-ethereum/tmp/1-pdf-single--w-footer/0-result-1624435489-17.pdf\", \"/Users/andreasbanholzer/PROJEKTE/2020-04-28--bewerbungen/1-bewerbungen/49-gründerwettbewerb/2-statistiken/0-research/0-ethereum/tmp/1-pdf-single--w-footer/0-result-1624435489-18.pdf\", \"/Users/andreasbanholzer/PROJEKTE/2020-04-28--bewerbungen/1-bewerbungen/49-gründerwettbewerb/2-statistiken/0-research/0-ethereum/tmp/1-pdf-single--w-footer/0-result-1624435489-19.pdf\", \"/Users/andreasbanholzer/PROJEKTE/2020-04-28--bewerbungen/1-bewerbungen/49-gründerwettbewerb/2-statistiken/0-research/0-ethereum/tmp/1-pdf-single--w-footer/0-result-1624435489-2.pdf\", \"/Users/andreasbanholzer/PROJEKTE/2020-04-28--bewerbungen/1-bewerbungen/49-gründerwettbewerb/2-statistiken/0-research/0-ethereum/tmp/1-pdf-single--w-footer/0-result-1624435489-20.pdf\", \"/Users/andreasbanholzer/PROJEKTE/2020-04-28--bewerbungen/1-bewerbungen/49-gründerwettbewerb/2-statistiken/0-research/0-ethereum/tmp/1-pdf-single--w-footer/0-result-1624435489-3.pdf\", \"/Users/andreasbanholzer/PROJEKTE/2020-04-28--bewerbungen/1-bewerbungen/49-gründerwettbewerb/2-statistiken/0-research/0-ethereum/tmp/1-pdf-single--w-footer/0-result-1624435489-4.pdf\", \"/Users/andreasbanholzer/PROJEKTE/2020-04-28--bewerbungen/1-bewerbungen/49-gründerwettbewerb/2-statistiken/0-research/0-ethereum/tmp/1-pdf-single--w-footer/0-result-1624435489-5.pdf\", \"/Users/andreasbanholzer/PROJEKTE/2020-04-28--bewerbungen/1-bewerbungen/49-gründerwettbewerb/2-statistiken/0-research/0-ethereum/tmp/1-pdf-single--w-footer/0-result-1624435489-6.pdf\", \"/Users/andreasbanholzer/PROJEKTE/2020-04-28--bewerbungen/1-bewerbungen/49-gründerwettbewerb/2-statistiken/0-research/0-ethereum/tmp/1-pdf-single--w-footer/0-result-1624435489-7.pdf\", \"/Users/andreasbanholzer/PROJEKTE/2020-04-28--bewerbungen/1-bewerbungen/49-gründerwettbewerb/2-statistiken/0-research/0-ethereum/tmp/1-pdf-single--w-footer/0-result-1624435489-8.pdf\", \"/Users/andreasbanholzer/PROJEKTE/2020-04-28--bewerbungen/1-bewerbungen/49-gründerwettbewerb/2-statistiken/0-research/0-ethereum/tmp/1-pdf-single--w-footer/0-result-1624435489-9.pdf\", \"/Users/andreasbanholzer/PROJEKTE/2020-04-28--bewerbungen/1-bewerbungen/49-gründerwettbewerb/2-statistiken/0-research/0-ethereum/tmp/1-pdf-single--w-footer/0-result-1624435857-0.pdf\", \"/Users/andreasbanholzer/PROJEKTE/2020-04-28--bewerbungen/1-bewerbungen/49-gründerwettbewerb/2-statistiken/0-research/0-ethereum/tmp/1-pdf-single--w-footer/0-result-1624435857-1.pdf\", \"/Users/andreasbanholzer/PROJEKTE/2020-04-28--bewerbungen/1-bewerbungen/49-gründerwettbewerb/2-statistiken/0-research/0-ethereum/tmp/1-pdf-single--w-footer/0-result-1624435857-10.pdf\", \"/Users/andreasbanholzer/PROJEKTE/2020-04-28--bewerbungen/1-bewerbungen/49-gründerwettbewerb/2-statistiken/0-research/0-ethereum/tmp/1-pdf-single--w-footer/0-result-1624435857-11.pdf\", \"/Users/andreasbanholzer/PROJEKTE/2020-04-28--bewerbungen/1-bewerbungen/49-gründerwettbewerb/2-statistiken/0-research/0-ethereum/tmp/1-pdf-single--w-footer/0-result-1624435857-12.pdf\", \"/Users/andreasbanholzer/PROJEKTE/2020-04-28--bewerbungen/1-bewerbungen/49-gründerwettbewerb/2-statistiken/0-research/0-ethereum/tmp/1-pdf-single--w-footer/0-result-1624435857-13.pdf\", \"/Users/andreasbanholzer/PROJEKTE/2020-04-28--bewerbungen/1-bewerbungen/49-gründerwettbewerb/2-statistiken/0-research/0-ethereum/tmp/1-pdf-single--w-footer/0-result-1624435857-14.pdf\", \"/Users/andreasbanholzer/PROJEKTE/2020-04-28--bewerbungen/1-bewerbungen/49-gründerwettbewerb/2-statistiken/0-research/0-ethereum/tmp/1-pdf-single--w-footer/0-result-1624435857-15.pdf\", \"/Users/andreasbanholzer/PROJEKTE/2020-04-28--bewerbungen/1-bewerbungen/49-gründerwettbewerb/2-statistiken/0-research/0-ethereum/tmp/1-pdf-single--w-footer/0-result-1624435857-16.pdf\", \"/Users/andreasbanholzer/PROJEKTE/2020-04-28--bewerbungen/1-bewerbungen/49-gründerwettbewerb/2-statistiken/0-research/0-ethereum/tmp/1-pdf-single--w-footer/0-result-1624435857-17.pdf\", \"/Users/andreasbanholzer/PROJEKTE/2020-04-28--bewerbungen/1-bewerbungen/49-gründerwettbewerb/2-statistiken/0-research/0-ethereum/tmp/1-pdf-single--w-footer/0-result-1624435857-18.pdf\", \"/Users/andreasbanholzer/PROJEKTE/2020-04-28--bewerbungen/1-bewerbungen/49-gründerwettbewerb/2-statistiken/0-research/0-ethereum/tmp/1-pdf-single--w-footer/0-result-1624435857-19.pdf\", \"/Users/andreasbanholzer/PROJEKTE/2020-04-28--bewerbungen/1-bewerbungen/49-gründerwettbewerb/2-statistiken/0-research/0-ethereum/tmp/1-pdf-single--w-footer/0-result-1624435857-2.pdf\", \"/Users/andreasbanholzer/PROJEKTE/2020-04-28--bewerbungen/1-bewerbungen/49-gründerwettbewerb/2-statistiken/0-research/0-ethereum/tmp/1-pdf-single--w-footer/0-result-1624435857-20.pdf\", \"/Users/andreasbanholzer/PROJEKTE/2020-04-28--bewerbungen/1-bewerbungen/49-gründerwettbewerb/2-statistiken/0-research/0-ethereum/tmp/1-pdf-single--w-footer/0-result-1624435857-21.pdf\", \"/Users/andreasbanholzer/PROJEKTE/2020-04-28--bewerbungen/1-bewerbungen/49-gründerwettbewerb/2-statistiken/0-research/0-ethereum/tmp/1-pdf-single--w-footer/0-result-1624435857-22.pdf\", \"/Users/andreasbanholzer/PROJEKTE/2020-04-28--bewerbungen/1-bewerbungen/49-gründerwettbewerb/2-statistiken/0-research/0-ethereum/tmp/1-pdf-single--w-footer/0-result-1624435857-23.pdf\", \"/Users/andreasbanholzer/PROJEKTE/2020-04-28--bewerbungen/1-bewerbungen/49-gründerwettbewerb/2-statistiken/0-research/0-ethereum/tmp/1-pdf-single--w-footer/0-result-1624435857-24.pdf\", \"/Users/andreasbanholzer/PROJEKTE/2020-04-28--bewerbungen/1-bewerbungen/49-gründerwettbewerb/2-statistiken/0-research/0-ethereum/tmp/1-pdf-single--w-footer/0-result-1624435857-25.pdf\", \"/Users/andreasbanholzer/PROJEKTE/2020-04-28--bewerbungen/1-bewerbungen/49-gründerwettbewerb/2-statistiken/0-research/0-ethereum/tmp/1-pdf-single--w-footer/0-result-1624435857-26.pdf\", \"/Users/andreasbanholzer/PROJEKTE/2020-04-28--bewerbungen/1-bewerbungen/49-gründerwettbewerb/2-statistiken/0-research/0-ethereum/tmp/1-pdf-single--w-footer/0-result-1624435857-27.pdf\", \"/Users/andreasbanholzer/PROJEKTE/2020-04-28--bewerbungen/1-bewerbungen/49-gründerwettbewerb/2-statistiken/0-research/0-ethereum/tmp/1-pdf-single--w-footer/0-result-1624435857-28.pdf\", \"/Users/andreasbanholzer/PROJEKTE/2020-04-28--bewerbungen/1-bewerbungen/49-gründerwettbewerb/2-statistiken/0-research/0-ethereum/tmp/1-pdf-single--w-footer/0-result-1624435857-29.pdf\", \"/Users/andreasbanholzer/PROJEKTE/2020-04-28--bewerbungen/1-bewerbungen/49-gründerwettbewerb/2-statistiken/0-research/0-ethereum/tmp/1-pdf-single--w-footer/0-result-1624435857-3.pdf\", \"/Users/andreasbanholzer/PROJEKTE/2020-04-28--bewerbungen/1-bewerbungen/49-gründerwettbewerb/2-statistiken/0-research/0-ethereum/tmp/1-pdf-single--w-footer/0-result-1624435857-30.pdf\", \"/Users/andreasbanholzer/PROJEKTE/2020-04-28--bewerbungen/1-bewerbungen/49-gründerwettbewerb/2-statistiken/0-research/0-ethereum/tmp/1-pdf-single--w-footer/0-result-1624435857-31.pdf\", \"/Users/andreasbanholzer/PROJEKTE/2020-04-28--bewerbungen/1-bewerbungen/49-gründerwettbewerb/2-statistiken/0-research/0-ethereum/tmp/1-pdf-single--w-footer/0-result-1624435857-32.pdf\", \"/Users/andreasbanholzer/PROJEKTE/2020-04-28--bewerbungen/1-bewerbungen/49-gründerwettbewerb/2-statistiken/0-research/0-ethereum/tmp/1-pdf-single--w-footer/0-result-1624435857-33.pdf\", \"/Users/andreasbanholzer/PROJEKTE/2020-04-28--bewerbungen/1-bewerbungen/49-gründerwettbewerb/2-statistiken/0-research/0-ethereum/tmp/1-pdf-single--w-footer/0-result-1624435857-34.pdf\", \"/Users/andreasbanholzer/PROJEKTE/2020-04-28--bewerbungen/1-bewerbungen/49-gründerwettbewerb/2-statistiken/0-research/0-ethereum/tmp/1-pdf-single--w-footer/0-result-1624435857-35.pdf\", \"/Users/andreasbanholzer/PROJEKTE/2020-04-28--bewerbungen/1-bewerbungen/49-gründerwettbewerb/2-statistiken/0-research/0-ethereum/tmp/1-pdf-single--w-footer/0-result-1624435857-36.pdf\", \"/Users/andreasbanholzer/PROJEKTE/2020-04-28--bewerbungen/1-bewerbungen/49-gründerwettbewerb/2-statistiken/0-research/0-ethereum/tmp/1-pdf-single--w-footer/0-result-1624435857-37.pdf\", \"/Users/andreasbanholzer/PROJEKTE/2020-04-28--bewerbungen/1-bewerbungen/49-gründerwettbewerb/2-statistiken/0-research/0-ethereum/tmp/1-pdf-single--w-footer/0-result-1624435857-38.pdf\", \"/Users/andreasbanholzer/PROJEKTE/2020-04-28--bewerbungen/1-bewerbungen/49-gründerwettbewerb/2-statistiken/0-research/0-ethereum/tmp/1-pdf-single--w-footer/0-result-1624435857-39.pdf\", \"/Users/andreasbanholzer/PROJEKTE/2020-04-28--bewerbungen/1-bewerbungen/49-gründerwettbewerb/2-statistiken/0-research/0-ethereum/tmp/1-pdf-single--w-footer/0-result-1624435857-4.pdf\", \"/Users/andreasbanholzer/PROJEKTE/2020-04-28--bewerbungen/1-bewerbungen/49-gründerwettbewerb/2-statistiken/0-research/0-ethereum/tmp/1-pdf-single--w-footer/0-result-1624435857-40.pdf\", \"/Users/andreasbanholzer/PROJEKTE/2020-04-28--bewerbungen/1-bewerbungen/49-gründerwettbewerb/2-statistiken/0-research/0-ethereum/tmp/1-pdf-single--w-footer/0-result-1624435857-41.pdf\", \"/Users/andreasbanholzer/PROJEKTE/2020-04-28--bewerbungen/1-bewerbungen/49-gründerwettbewerb/2-statistiken/0-research/0-ethereum/tmp/1-pdf-single--w-footer/0-result-1624435857-5.pdf\", \"/Users/andreasbanholzer/PROJEKTE/2020-04-28--bewerbungen/1-bewerbungen/49-gründerwettbewerb/2-statistiken/0-research/0-ethereum/tmp/1-pdf-single--w-footer/0-result-1624435857-6.pdf\", \"/Users/andreasbanholzer/PROJEKTE/2020-04-28--bewerbungen/1-bewerbungen/49-gründerwettbewerb/2-statistiken/0-research/0-ethereum/tmp/1-pdf-single--w-footer/0-result-1624435857-7.pdf\", \"/Users/andreasbanholzer/PROJEKTE/2020-04-28--bewerbungen/1-bewerbungen/49-gründerwettbewerb/2-statistiken/0-research/0-ethereum/tmp/1-pdf-single--w-footer/0-result-1624435857-8.pdf\", \"/Users/andreasbanholzer/PROJEKTE/2020-04-28--bewerbungen/1-bewerbungen/49-gründerwettbewerb/2-statistiken/0-research/0-ethereum/tmp/1-pdf-single--w-footer/0-result-1624435857-9.pdf\", \"/Users/andreasbanholzer/PROJEKTE/2020-04-28--bewerbungen/1-bewerbungen/49-gründerwettbewerb/2-statistiken/0-research/0-ethereum/tmp/1-pdf-single--w-footer/1.pdf\", \"/Users/andreasbanholzer/PROJEKTE/2020-04-28--bewerbungen/1-bewerbungen/49-gründerwettbewerb/2-statistiken/0-research/0-ethereum/tmp/1-pdf-single--w-footer/10.pdf\", \"/Users/andreasbanholzer/PROJEKTE/2020-04-28--bewerbungen/1-bewerbungen/49-gründerwettbewerb/2-statistiken/0-research/0-ethereum/tmp/1-pdf-single--w-footer/11.pdf\", \"/Users/andreasbanholzer/PROJEKTE/2020-04-28--bewerbungen/1-bewerbungen/49-gründerwettbewerb/2-statistiken/0-research/0-ethereum/tmp/1-pdf-single--w-footer/12.pdf\", \"/Users/andreasbanholzer/PROJEKTE/2020-04-28--bewerbungen/1-bewerbungen/49-gründerwettbewerb/2-statistiken/0-research/0-ethereum/tmp/1-pdf-single--w-footer/2.pdf\", \"/Users/andreasbanholzer/PROJEKTE/2020-04-28--bewerbungen/1-bewerbungen/49-gründerwettbewerb/2-statistiken/0-research/0-ethereum/tmp/1-pdf-single--w-footer/3.pdf\", \"/Users/andreasbanholzer/PROJEKTE/2020-04-28--bewerbungen/1-bewerbungen/49-gründerwettbewerb/2-statistiken/0-research/0-ethereum/tmp/1-pdf-single--w-footer/4.pdf\", \"/Users/andreasbanholzer/PROJEKTE/2020-04-28--bewerbungen/1-bewerbungen/49-gründerwettbewerb/2-statistiken/0-research/0-ethereum/tmp/1-pdf-single--w-footer/5.pdf\", \"/Users/andreasbanholzer/PROJEKTE/2020-04-28--bewerbungen/1-bewerbungen/49-gründerwettbewerb/2-statistiken/0-research/0-ethereum/tmp/1-pdf-single--w-footer/6.pdf\", \"/Users/andreasbanholzer/PROJEKTE/2020-04-28--bewerbungen/1-bewerbungen/49-gründerwettbewerb/2-statistiken/0-research/0-ethereum/tmp/1-pdf-single--w-footer/7.pdf\", \"/Users/andreasbanholzer/PROJEKTE/2020-04-28--bewerbungen/1-bewerbungen/49-gründerwettbewerb/2-statistiken/0-research/0-ethereum/tmp/1-pdf-single--w-footer/8.pdf\", \"/Users/andreasbanholzer/PROJEKTE/2020-04-28--bewerbungen/1-bewerbungen/49-gründerwettbewerb/2-statistiken/0-research/0-ethereum/tmp/1-pdf-single--w-footer/9.pdf\", \"/Users/andreasbanholzer/PROJEKTE/2020-04-28--bewerbungen/1-bewerbungen/49-gründerwettbewerb/2-statistiken/0-research/0-ethereum/tmp/1-pdf-single--w-footer/A-ethereum-eip-overview-0.pdf\", \"/Users/andreasbanholzer/PROJEKTE/2020-04-28--bewerbungen/1-bewerbungen/49-gründerwettbewerb/2-statistiken/0-research/0-ethereum/tmp/1-pdf-single--w-footer/A-ethereum-eip-overview-1.pdf\", \"/Users/andreasbanholzer/PROJEKTE/2020-04-28--bewerbungen/1-bewerbungen/49-gründerwettbewerb/2-statistiken/0-research/0-ethereum/tmp/1-pdf-single--w-footer/A-ethereum-eip-overview-2.pdf\", \"/Users/andreasbanholzer/PROJEKTE/2020-04-28--bewerbungen/1-bewerbungen/49-gründerwettbewerb/2-statistiken/0-research/0-ethereum/tmp/1-pdf-single--w-footer/A-ethereum-eip-overview-3.pdf\", \"/Users/andreasbanholzer/PROJEKTE/2020-04-28--bewerbungen/1-bewerbungen/49-gründerwettbewerb/2-statistiken/0-research/0-ethereum/tmp/1-pdf-single--w-footer/B-ethereum-erc20-overview-0.pdf\", \"/Users/andreasbanholzer/PROJEKTE/2020-04-28--bewerbungen/1-bewerbungen/49-gründerwettbewerb/2-statistiken/0-research/0-ethereum/tmp/1-pdf-single--w-footer/B-ethereum-erc20-overview-1.pdf\", \"/Users/andreasbanholzer/PROJEKTE/2020-04-28--bewerbungen/1-bewerbungen/49-gründerwettbewerb/2-statistiken/0-research/0-ethereum/tmp/1-pdf-single--w-footer/B-ethereum-erc20-overview-2.pdf\", \"/Users/andreasbanholzer/PROJEKTE/2020-04-28--bewerbungen/1-bewerbungen/49-gründerwettbewerb/2-statistiken/0-research/0-ethereum/tmp/1-pdf-single--w-footer/C-ethereum-erc721-overview.pdf-0.pdf\", \"/Users/andreasbanholzer/PROJEKTE/2020-04-28--bewerbungen/1-bewerbungen/49-gründerwettbewerb/2-statistiken/0-research/0-ethereum/tmp/1-pdf-single--w-footer/C-ethereum-erc721-overview.pdf-1.pdf\"]\n",
    "puts\n"
   ]
  },
  {
   "cell_type": "code",
   "execution_count": 4,
   "id": "1102434d",
   "metadata": {},
   "outputs": [
    {
     "data": {
      "text/plain": [
       "\"/Users/andreasbanholzer/PROJEKTE/2020-04-28--bewer\""
      ]
     },
     "execution_count": 4,
     "metadata": {},
     "output_type": "execute_result"
    }
   ],
   "source": [
    "t[ 0 ][ 0, 50]\n"
   ]
  },
  {
   "cell_type": "code",
   "execution_count": 11,
   "id": "cf52ef01",
   "metadata": {},
   "outputs": [
    {
     "name": "stdout",
     "output_type": "stream",
     "text": [
      "/Users/and...reum/tmp/0-jpg/0-result-1624435489-0.jpg\n",
      "/Users/and...reum/tmp/0-jpg/0-result-1624435489-1.jpg\n",
      "/Users/and...reum/tmp/0-jpg/0-result-1624435489-10.jpg\n",
      "/Users/and...reum/tmp/0-jpg/0-result-1624435489-11.jpg\n",
      "/Users/and...reum/tmp/0-jpg/0-result-1624435489-12.jpg\n",
      "/Users/and...reum/tmp/0-jpg/0-result-1624435489-13.jpg\n",
      "/Users/and...reum/tmp/0-jpg/0-result-1624435489-14.jpg\n",
      "/Users/and...reum/tmp/0-jpg/0-result-1624435489-15.jpg\n",
      "/Users/and...reum/tmp/0-jpg/0-result-1624435489-16.jpg\n",
      "/Users/and...reum/tmp/0-jpg/0-result-1624435489-17.jpg\n",
      "/Users/and...reum/tmp/0-jpg/0-result-1624435489-18.jpg\n",
      "/Users/and...reum/tmp/0-jpg/0-result-1624435489-19.jpg\n",
      "/Users/and...reum/tmp/0-jpg/0-result-1624435489-2.jpg\n",
      "/Users/and...reum/tmp/0-jpg/0-result-1624435489-20.jpg\n",
      "/Users/and...reum/tmp/0-jpg/0-result-1624435489-3.jpg\n",
      "/Users/and...reum/tmp/0-jpg/0-result-1624435489-4.jpg\n",
      "/Users/and...reum/tmp/0-jpg/0-result-1624435489-5.jpg\n",
      "/Users/and...reum/tmp/0-jpg/0-result-1624435489-6.jpg\n",
      "/Users/and...reum/tmp/0-jpg/0-result-1624435489-7.jpg\n",
      "/Users/and...reum/tmp/0-jpg/0-result-1624435489-8.jpg\n",
      "/Users/and...reum/tmp/0-jpg/0-result-1624435489-9.jpg\n",
      "/Users/and...reum/tmp/0-jpg/0-result-1624435857-0.jpg\n",
      "/Users/and...reum/tmp/0-jpg/0-result-1624435857-1.jpg\n",
      "/Users/and...reum/tmp/0-jpg/0-result-1624435857-10.jpg\n",
      "/Users/and...reum/tmp/0-jpg/0-result-1624435857-11.jpg\n",
      "/Users/and...reum/tmp/0-jpg/0-result-1624435857-12.jpg\n",
      "/Users/and...reum/tmp/0-jpg/0-result-1624435857-13.jpg\n",
      "/Users/and...reum/tmp/0-jpg/0-result-1624435857-14.jpg\n",
      "/Users/and...reum/tmp/0-jpg/0-result-1624435857-15.jpg\n",
      "/Users/and...reum/tmp/0-jpg/0-result-1624435857-16.jpg\n",
      "/Users/and...reum/tmp/0-jpg/0-result-1624435857-17.jpg\n",
      "/Users/and...reum/tmp/0-jpg/0-result-1624435857-18.jpg\n",
      "/Users/and...reum/tmp/0-jpg/0-result-1624435857-19.jpg\n",
      "/Users/and...reum/tmp/0-jpg/0-result-1624435857-2.jpg\n",
      "/Users/and...reum/tmp/0-jpg/0-result-1624435857-20.jpg\n",
      "/Users/and...reum/tmp/0-jpg/0-result-1624435857-21.jpg\n",
      "/Users/and...reum/tmp/0-jpg/0-result-1624435857-22.jpg\n",
      "/Users/and...reum/tmp/0-jpg/0-result-1624435857-23.jpg\n",
      "/Users/and...reum/tmp/0-jpg/0-result-1624435857-24.jpg\n",
      "/Users/and...reum/tmp/0-jpg/0-result-1624435857-25.jpg\n",
      "/Users/and...reum/tmp/0-jpg/0-result-1624435857-26.jpg\n",
      "/Users/and...reum/tmp/0-jpg/0-result-1624435857-27.jpg\n",
      "/Users/and...reum/tmp/0-jpg/0-result-1624435857-28.jpg\n",
      "/Users/and...reum/tmp/0-jpg/0-result-1624435857-29.jpg\n",
      "/Users/and...reum/tmp/0-jpg/0-result-1624435857-3.jpg\n",
      "/Users/and...reum/tmp/0-jpg/0-result-1624435857-30.jpg\n",
      "/Users/and...reum/tmp/0-jpg/0-result-1624435857-31.jpg\n",
      "/Users/and...reum/tmp/0-jpg/0-result-1624435857-32.jpg\n",
      "/Users/and...reum/tmp/0-jpg/0-result-1624435857-33.jpg\n",
      "/Users/and...reum/tmp/0-jpg/0-result-1624435857-34.jpg\n",
      "/Users/and...reum/tmp/0-jpg/0-result-1624435857-35.jpg\n",
      "/Users/and...reum/tmp/0-jpg/0-result-1624435857-36.jpg\n",
      "/Users/and...reum/tmp/0-jpg/0-result-1624435857-37.jpg\n",
      "/Users/and...reum/tmp/0-jpg/0-result-1624435857-38.jpg\n",
      "/Users/and...reum/tmp/0-jpg/0-result-1624435857-39.jpg\n",
      "/Users/and...reum/tmp/0-jpg/0-result-1624435857-4.jpg\n",
      "/Users/and...reum/tmp/0-jpg/0-result-1624435857-40.jpg\n",
      "/Users/and...reum/tmp/0-jpg/0-result-1624435857-41.jpg\n",
      "/Users/and...reum/tmp/0-jpg/0-result-1624435857-5.jpg\n",
      "/Users/and...reum/tmp/0-jpg/0-result-1624435857-6.jpg\n",
      "/Users/and...reum/tmp/0-jpg/0-result-1624435857-7.jpg\n",
      "/Users/and...reum/tmp/0-jpg/0-result-1624435857-8.jpg\n",
      "/Users/and...reum/tmp/0-jpg/0-result-1624435857-9.jpg\n",
      "/Users/and...reum/tmp/0-jpg/1.jpg\n",
      "/Users/and...reum/tmp/0-jpg/10.jpg\n",
      "/Users/and...reum/tmp/0-jpg/11.jpg\n",
      "/Users/and...reum/tmp/0-jpg/12.jpg\n",
      "/Users/and...reum/tmp/0-jpg/2.jpg\n",
      "/Users/and...reum/tmp/0-jpg/3.jpg\n",
      "/Users/and...reum/tmp/0-jpg/4.jpg\n",
      "/Users/and...reum/tmp/0-jpg/5.jpg\n",
      "/Users/and...reum/tmp/0-jpg/6.jpg\n",
      "/Users/and...reum/tmp/0-jpg/7.jpg\n",
      "/Users/and...reum/tmp/0-jpg/8.jpg\n",
      "/Users/and...reum/tmp/0-jpg/9.jpg\n",
      "/Users/and...reum/tmp/0-jpg/A-ethereum-eip-overview-0.jpg\n",
      "/Users/and...reum/tmp/0-jpg/A-ethereum-eip-overview-1.jpg\n",
      "/Users/and...reum/tmp/0-jpg/A-ethereum-eip-overview-2.jpg\n",
      "/Users/and...reum/tmp/0-jpg/A-ethereum-eip-overview-3.jpg\n",
      "/Users/and...reum/tmp/0-jpg/B-ethereum-erc20-overview-0.jpg\n",
      "/Users/and...reum/tmp/0-jpg/B-ethereum-erc20-overview-1.jpg\n",
      "/Users/and...reum/tmp/0-jpg/B-ethereum-erc20-overview-2.jpg\n",
      "/Users/and...reum/tmp/0-jpg/C-ethereum-erc721-overview.pdf-0.jpg\n",
      "/Users/and...reum/tmp/0-jpg/C-ethereum-erc721-overview.pdf-1.jpg\n",
      "/Users/and...reum/A-images/1.png\n",
      "/Users/and...reum/A-images/10.png\n",
      "/Users/and...reum/A-images/11.png\n",
      "/Users/and...reum/A-images/12.png\n",
      "/Users/and...reum/A-images/2.png\n",
      "/Users/and...reum/A-images/3.png\n",
      "/Users/and...reum/A-images/5.png\n",
      "/Users/and...reum/A-images/6.png\n",
      "/Users/and...reum/A-images/7.png\n",
      "/Users/and...reum/A-images/9.png\n",
      "/Users/and...reum/B-images/1.png\n",
      "/Users/and...reum/B-images/2.png\n",
      "/Users/and...reum/B-images/3.png\n",
      "/Users/and...reum/B-images/4.png\n",
      "/Users/and...reum/B-images/5.png\n",
      "/Users/and...reum/B-images/6.png\n",
      "/Users/and...reum/B-images/7.png\n",
      "/Users/and...reum/B-images/8.png\n",
      "/Users/and...reum/C-images/1.png\n",
      "/Users/and...reum/C-images/2.png\n",
      "/Users/and...reum/C-images/3.png\n",
      "/Users/and...reum/C-images/4.png\n",
      "/Users/and...reum/C-images/5.png\n",
      "/Users/and...reum/0-result/0-result-1624435489.pdf\n",
      "/Users/and...reum/0-result/0-result-1624435857.pdf\n",
      "/Users/and...reum/0-result/0-result-1624436150.pdf\n",
      "/Users/and...reum/A-ethereum-eip-overview.pdf\n",
      "/Users/and...reum/B-ethereum-erc20-overview.pdf\n",
      "/Users/and...reum/C-ethereum-erc721-overview.pdf.pdf\n",
      "/Users/and...reum/tmp/1-pdf-single--w-footer/0-result-1624435489-0.pdf\n",
      "/Users/and...reum/tmp/1-pdf-single--w-footer/0-result-1624435489-1.pdf\n",
      "/Users/and...reum/tmp/1-pdf-single--w-footer/0-result-1624435489-10.pdf\n",
      "/Users/and...reum/tmp/1-pdf-single--w-footer/0-result-1624435489-11.pdf\n",
      "/Users/and...reum/tmp/1-pdf-single--w-footer/0-result-1624435489-12.pdf\n",
      "/Users/and...reum/tmp/1-pdf-single--w-footer/0-result-1624435489-13.pdf\n",
      "/Users/and...reum/tmp/1-pdf-single--w-footer/0-result-1624435489-14.pdf\n",
      "/Users/and...reum/tmp/1-pdf-single--w-footer/0-result-1624435489-15.pdf\n",
      "/Users/and...reum/tmp/1-pdf-single--w-footer/0-result-1624435489-16.pdf\n",
      "/Users/and...reum/tmp/1-pdf-single--w-footer/0-result-1624435489-17.pdf\n",
      "/Users/and...reum/tmp/1-pdf-single--w-footer/0-result-1624435489-18.pdf\n",
      "/Users/and...reum/tmp/1-pdf-single--w-footer/0-result-1624435489-19.pdf\n",
      "/Users/and...reum/tmp/1-pdf-single--w-footer/0-result-1624435489-2.pdf\n",
      "/Users/and...reum/tmp/1-pdf-single--w-footer/0-result-1624435489-20.pdf\n",
      "/Users/and...reum/tmp/1-pdf-single--w-footer/0-result-1624435489-3.pdf\n",
      "/Users/and...reum/tmp/1-pdf-single--w-footer/0-result-1624435489-4.pdf\n",
      "/Users/and...reum/tmp/1-pdf-single--w-footer/0-result-1624435489-5.pdf\n",
      "/Users/and...reum/tmp/1-pdf-single--w-footer/0-result-1624435489-6.pdf\n",
      "/Users/and...reum/tmp/1-pdf-single--w-footer/0-result-1624435489-7.pdf\n",
      "/Users/and...reum/tmp/1-pdf-single--w-footer/0-result-1624435489-8.pdf\n",
      "/Users/and...reum/tmp/1-pdf-single--w-footer/0-result-1624435489-9.pdf\n",
      "/Users/and...reum/tmp/1-pdf-single--w-footer/0-result-1624435857-0.pdf\n",
      "/Users/and...reum/tmp/1-pdf-single--w-footer/0-result-1624435857-1.pdf\n",
      "/Users/and...reum/tmp/1-pdf-single--w-footer/0-result-1624435857-10.pdf\n",
      "/Users/and...reum/tmp/1-pdf-single--w-footer/0-result-1624435857-11.pdf\n",
      "/Users/and...reum/tmp/1-pdf-single--w-footer/0-result-1624435857-12.pdf\n",
      "/Users/and...reum/tmp/1-pdf-single--w-footer/0-result-1624435857-13.pdf\n",
      "/Users/and...reum/tmp/1-pdf-single--w-footer/0-result-1624435857-14.pdf\n",
      "/Users/and...reum/tmp/1-pdf-single--w-footer/0-result-1624435857-15.pdf\n",
      "/Users/and...reum/tmp/1-pdf-single--w-footer/0-result-1624435857-16.pdf\n",
      "/Users/and...reum/tmp/1-pdf-single--w-footer/0-result-1624435857-17.pdf\n",
      "/Users/and...reum/tmp/1-pdf-single--w-footer/0-result-1624435857-18.pdf\n",
      "/Users/and...reum/tmp/1-pdf-single--w-footer/0-result-1624435857-19.pdf\n",
      "/Users/and...reum/tmp/1-pdf-single--w-footer/0-result-1624435857-2.pdf\n",
      "/Users/and...reum/tmp/1-pdf-single--w-footer/0-result-1624435857-20.pdf\n",
      "/Users/and...reum/tmp/1-pdf-single--w-footer/0-result-1624435857-21.pdf\n",
      "/Users/and...reum/tmp/1-pdf-single--w-footer/0-result-1624435857-22.pdf\n",
      "/Users/and...reum/tmp/1-pdf-single--w-footer/0-result-1624435857-23.pdf\n",
      "/Users/and...reum/tmp/1-pdf-single--w-footer/0-result-1624435857-24.pdf\n"
     ]
    },
    {
     "name": "stdout",
     "output_type": "stream",
     "text": [
      "/Users/and...reum/tmp/1-pdf-single--w-footer/0-result-1624435857-25.pdf\n",
      "/Users/and...reum/tmp/1-pdf-single--w-footer/0-result-1624435857-26.pdf\n",
      "/Users/and...reum/tmp/1-pdf-single--w-footer/0-result-1624435857-27.pdf\n",
      "/Users/and...reum/tmp/1-pdf-single--w-footer/0-result-1624435857-28.pdf\n",
      "/Users/and...reum/tmp/1-pdf-single--w-footer/0-result-1624435857-29.pdf\n",
      "/Users/and...reum/tmp/1-pdf-single--w-footer/0-result-1624435857-3.pdf\n",
      "/Users/and...reum/tmp/1-pdf-single--w-footer/0-result-1624435857-30.pdf\n",
      "/Users/and...reum/tmp/1-pdf-single--w-footer/0-result-1624435857-31.pdf\n",
      "/Users/and...reum/tmp/1-pdf-single--w-footer/0-result-1624435857-32.pdf\n",
      "/Users/and...reum/tmp/1-pdf-single--w-footer/0-result-1624435857-33.pdf\n",
      "/Users/and...reum/tmp/1-pdf-single--w-footer/0-result-1624435857-34.pdf\n",
      "/Users/and...reum/tmp/1-pdf-single--w-footer/0-result-1624435857-35.pdf\n",
      "/Users/and...reum/tmp/1-pdf-single--w-footer/0-result-1624435857-36.pdf\n",
      "/Users/and...reum/tmp/1-pdf-single--w-footer/0-result-1624435857-37.pdf\n",
      "/Users/and...reum/tmp/1-pdf-single--w-footer/0-result-1624435857-38.pdf\n",
      "/Users/and...reum/tmp/1-pdf-single--w-footer/0-result-1624435857-39.pdf\n",
      "/Users/and...reum/tmp/1-pdf-single--w-footer/0-result-1624435857-4.pdf\n",
      "/Users/and...reum/tmp/1-pdf-single--w-footer/0-result-1624435857-40.pdf\n",
      "/Users/and...reum/tmp/1-pdf-single--w-footer/0-result-1624435857-41.pdf\n",
      "/Users/and...reum/tmp/1-pdf-single--w-footer/0-result-1624435857-5.pdf\n",
      "/Users/and...reum/tmp/1-pdf-single--w-footer/0-result-1624435857-6.pdf\n",
      "/Users/and...reum/tmp/1-pdf-single--w-footer/0-result-1624435857-7.pdf\n",
      "/Users/and...reum/tmp/1-pdf-single--w-footer/0-result-1624435857-8.pdf\n",
      "/Users/and...reum/tmp/1-pdf-single--w-footer/0-result-1624435857-9.pdf\n",
      "/Users/and...reum/tmp/1-pdf-single--w-footer/1.pdf\n",
      "/Users/and...reum/tmp/1-pdf-single--w-footer/10.pdf\n",
      "/Users/and...reum/tmp/1-pdf-single--w-footer/11.pdf\n",
      "/Users/and...reum/tmp/1-pdf-single--w-footer/12.pdf\n",
      "/Users/and...reum/tmp/1-pdf-single--w-footer/2.pdf\n",
      "/Users/and...reum/tmp/1-pdf-single--w-footer/3.pdf\n",
      "/Users/and...reum/tmp/1-pdf-single--w-footer/4.pdf\n",
      "/Users/and...reum/tmp/1-pdf-single--w-footer/5.pdf\n",
      "/Users/and...reum/tmp/1-pdf-single--w-footer/6.pdf\n",
      "/Users/and...reum/tmp/1-pdf-single--w-footer/7.pdf\n",
      "/Users/and...reum/tmp/1-pdf-single--w-footer/8.pdf\n",
      "/Users/and...reum/tmp/1-pdf-single--w-footer/9.pdf\n",
      "/Users/and...reum/tmp/1-pdf-single--w-footer/A-ethereum-eip-overview-0.pdf\n",
      "/Users/and...reum/tmp/1-pdf-single--w-footer/A-ethereum-eip-overview-1.pdf\n",
      "/Users/and...reum/tmp/1-pdf-single--w-footer/A-ethereum-eip-overview-2.pdf\n",
      "/Users/and...reum/tmp/1-pdf-single--w-footer/A-ethereum-eip-overview-3.pdf\n",
      "/Users/and...reum/tmp/1-pdf-single--w-footer/B-ethereum-erc20-overview-0.pdf\n",
      "/Users/and...reum/tmp/1-pdf-single--w-footer/B-ethereum-erc20-overview-1.pdf\n",
      "/Users/and...reum/tmp/1-pdf-single--w-footer/B-ethereum-erc20-overview-2.pdf\n",
      "/Users/and...reum/tmp/1-pdf-single--w-footer/C-ethereum-erc721-overview.pdf-0.pdf\n",
      "/Users/and...reum/tmp/1-pdf-single--w-footer/C-ethereum-erc721-overview.pdf-1.pdf\n"
     ]
    },
    {
     "data": {
      "text/plain": [
       "[\"/Users/andreasbanholzer/PROJEKTE/2020-04-28--bewerbungen/1-bewerbungen/49-gründerwettbewerb/2-statistiken/0-research/0-ethereum/tmp/0-jpg/0-result-1624435489-0.jpg\", \"/Users/andreasbanholzer/PROJEKTE/2020-04-28--bewerbungen/1-bewerbungen/49-gründerwettbewerb/2-statistiken/0-research/0-ethereum/tmp/0-jpg/0-result-1624435489-1.jpg\", \"/Users/andreasbanholzer/PROJEKTE/2020-04-28--bewerbungen/1-bewerbungen/49-gründerwettbewerb/2-statistiken/0-research/0-ethereum/tmp/0-jpg/0-result-1624435489-10.jpg\", \"/Users/andreasbanholzer/PROJEKTE/2020-04-28--bewerbungen/1-bewerbungen/49-gründerwettbewerb/2-statistiken/0-research/0-ethereum/tmp/0-jpg/0-result-1624435489-11.jpg\", \"/Users/andreasbanholzer/PROJEKTE/2020-04-28--bewerbungen/1-bewerbungen/49-gründerwettbewerb/2-statistiken/0-research/0-ethereum/tmp/0-jpg/0-result-1624435489-12.jpg\", \"/Users/andreasbanholzer/PROJEKTE/2020-04-28--bewerbungen/1-bewerbungen/49-gründerwettbewerb/2-statistiken/0-research/0-ethereum/tmp/0-jpg/0-result-1624435489-13.jpg\", \"/Users/andreasbanholzer/PROJEKTE/2020-04-28--bewerbungen/1-bewerbungen/49-gründerwettbewerb/2-statistiken/0-research/0-ethereum/tmp/0-jpg/0-result-1624435489-14.jpg\", \"/Users/andreasbanholzer/PROJEKTE/2020-04-28--bewerbungen/1-bewerbungen/49-gründerwettbewerb/2-statistiken/0-research/0-ethereum/tmp/0-jpg/0-result-1624435489-15.jpg\", \"/Users/andreasbanholzer/PROJEKTE/2020-04-28--bewerbungen/1-bewerbungen/49-gründerwettbewerb/2-statistiken/0-research/0-ethereum/tmp/0-jpg/0-result-1624435489-16.jpg\", \"/Users/andreasbanholzer/PROJEKTE/2020-04-28--bewerbungen/1-bewerbungen/49-gründerwettbewerb/2-statistiken/0-research/0-ethereum/tmp/0-jpg/0-result-1624435489-17.jpg\", \"/Users/andreasbanholzer/PROJEKTE/2020-04-28--bewerbungen/1-bewerbungen/49-gründerwettbewerb/2-statistiken/0-research/0-ethereum/tmp/0-jpg/0-result-1624435489-18.jpg\", \"/Users/andreasbanholzer/PROJEKTE/2020-04-28--bewerbungen/1-bewerbungen/49-gründerwettbewerb/2-statistiken/0-research/0-ethereum/tmp/0-jpg/0-result-1624435489-19.jpg\", \"/Users/andreasbanholzer/PROJEKTE/2020-04-28--bewerbungen/1-bewerbungen/49-gründerwettbewerb/2-statistiken/0-research/0-ethereum/tmp/0-jpg/0-result-1624435489-2.jpg\", \"/Users/andreasbanholzer/PROJEKTE/2020-04-28--bewerbungen/1-bewerbungen/49-gründerwettbewerb/2-statistiken/0-research/0-ethereum/tmp/0-jpg/0-result-1624435489-20.jpg\", \"/Users/andreasbanholzer/PROJEKTE/2020-04-28--bewerbungen/1-bewerbungen/49-gründerwettbewerb/2-statistiken/0-research/0-ethereum/tmp/0-jpg/0-result-1624435489-3.jpg\", \"/Users/andreasbanholzer/PROJEKTE/2020-04-28--bewerbungen/1-bewerbungen/49-gründerwettbewerb/2-statistiken/0-research/0-ethereum/tmp/0-jpg/0-result-1624435489-4.jpg\", \"/Users/andreasbanholzer/PROJEKTE/2020-04-28--bewerbungen/1-bewerbungen/49-gründerwettbewerb/2-statistiken/0-research/0-ethereum/tmp/0-jpg/0-result-1624435489-5.jpg\", \"/Users/andreasbanholzer/PROJEKTE/2020-04-28--bewerbungen/1-bewerbungen/49-gründerwettbewerb/2-statistiken/0-research/0-ethereum/tmp/0-jpg/0-result-1624435489-6.jpg\", \"/Users/andreasbanholzer/PROJEKTE/2020-04-28--bewerbungen/1-bewerbungen/49-gründerwettbewerb/2-statistiken/0-research/0-ethereum/tmp/0-jpg/0-result-1624435489-7.jpg\", \"/Users/andreasbanholzer/PROJEKTE/2020-04-28--bewerbungen/1-bewerbungen/49-gründerwettbewerb/2-statistiken/0-research/0-ethereum/tmp/0-jpg/0-result-1624435489-8.jpg\", \"/Users/andreasbanholzer/PROJEKTE/2020-04-28--bewerbungen/1-bewerbungen/49-gründerwettbewerb/2-statistiken/0-research/0-ethereum/tmp/0-jpg/0-result-1624435489-9.jpg\", \"/Users/andreasbanholzer/PROJEKTE/2020-04-28--bewerbungen/1-bewerbungen/49-gründerwettbewerb/2-statistiken/0-research/0-ethereum/tmp/0-jpg/0-result-1624435857-0.jpg\", \"/Users/andreasbanholzer/PROJEKTE/2020-04-28--bewerbungen/1-bewerbungen/49-gründerwettbewerb/2-statistiken/0-research/0-ethereum/tmp/0-jpg/0-result-1624435857-1.jpg\", \"/Users/andreasbanholzer/PROJEKTE/2020-04-28--bewerbungen/1-bewerbungen/49-gründerwettbewerb/2-statistiken/0-research/0-ethereum/tmp/0-jpg/0-result-1624435857-10.jpg\", \"/Users/andreasbanholzer/PROJEKTE/2020-04-28--bewerbungen/1-bewerbungen/49-gründerwettbewerb/2-statistiken/0-research/0-ethereum/tmp/0-jpg/0-result-1624435857-11.jpg\", \"/Users/andreasbanholzer/PROJEKTE/2020-04-28--bewerbungen/1-bewerbungen/49-gründerwettbewerb/2-statistiken/0-research/0-ethereum/tmp/0-jpg/0-result-1624435857-12.jpg\", \"/Users/andreasbanholzer/PROJEKTE/2020-04-28--bewerbungen/1-bewerbungen/49-gründerwettbewerb/2-statistiken/0-research/0-ethereum/tmp/0-jpg/0-result-1624435857-13.jpg\", \"/Users/andreasbanholzer/PROJEKTE/2020-04-28--bewerbungen/1-bewerbungen/49-gründerwettbewerb/2-statistiken/0-research/0-ethereum/tmp/0-jpg/0-result-1624435857-14.jpg\", \"/Users/andreasbanholzer/PROJEKTE/2020-04-28--bewerbungen/1-bewerbungen/49-gründerwettbewerb/2-statistiken/0-research/0-ethereum/tmp/0-jpg/0-result-1624435857-15.jpg\", \"/Users/andreasbanholzer/PROJEKTE/2020-04-28--bewerbungen/1-bewerbungen/49-gründerwettbewerb/2-statistiken/0-research/0-ethereum/tmp/0-jpg/0-result-1624435857-16.jpg\", \"/Users/andreasbanholzer/PROJEKTE/2020-04-28--bewerbungen/1-bewerbungen/49-gründerwettbewerb/2-statistiken/0-research/0-ethereum/tmp/0-jpg/0-result-1624435857-17.jpg\", \"/Users/andreasbanholzer/PROJEKTE/2020-04-28--bewerbungen/1-bewerbungen/49-gründerwettbewerb/2-statistiken/0-research/0-ethereum/tmp/0-jpg/0-result-1624435857-18.jpg\", \"/Users/andreasbanholzer/PROJEKTE/2020-04-28--bewerbungen/1-bewerbungen/49-gründerwettbewerb/2-statistiken/0-research/0-ethereum/tmp/0-jpg/0-result-1624435857-19.jpg\", \"/Users/andreasbanholzer/PROJEKTE/2020-04-28--bewerbungen/1-bewerbungen/49-gründerwettbewerb/2-statistiken/0-research/0-ethereum/tmp/0-jpg/0-result-1624435857-2.jpg\", \"/Users/andreasbanholzer/PROJEKTE/2020-04-28--bewerbungen/1-bewerbungen/49-gründerwettbewerb/2-statistiken/0-research/0-ethereum/tmp/0-jpg/0-result-1624435857-20.jpg\", \"/Users/andreasbanholzer/PROJEKTE/2020-04-28--bewerbungen/1-bewerbungen/49-gründerwettbewerb/2-statistiken/0-research/0-ethereum/tmp/0-jpg/0-result-1624435857-21.jpg\", \"/Users/andreasbanholzer/PROJEKTE/2020-04-28--bewerbungen/1-bewerbungen/49-gründerwettbewerb/2-statistiken/0-research/0-ethereum/tmp/0-jpg/0-result-1624435857-22.jpg\", \"/Users/andreasbanholzer/PROJEKTE/2020-04-28--bewerbungen/1-bewerbungen/49-gründerwettbewerb/2-statistiken/0-research/0-ethereum/tmp/0-jpg/0-result-1624435857-23.jpg\", \"/Users/andreasbanholzer/PROJEKTE/2020-04-28--bewerbungen/1-bewerbungen/49-gründerwettbewerb/2-statistiken/0-research/0-ethereum/tmp/0-jpg/0-result-1624435857-24.jpg\", \"/Users/andreasbanholzer/PROJEKTE/2020-04-28--bewerbungen/1-bewerbungen/49-gründerwettbewerb/2-statistiken/0-research/0-ethereum/tmp/0-jpg/0-result-1624435857-25.jpg\", \"/Users/andreasbanholzer/PROJEKTE/2020-04-28--bewerbungen/1-bewerbungen/49-gründerwettbewerb/2-statistiken/0-research/0-ethereum/tmp/0-jpg/0-result-1624435857-26.jpg\", \"/Users/andreasbanholzer/PROJEKTE/2020-04-28--bewerbungen/1-bewerbungen/49-gründerwettbewerb/2-statistiken/0-research/0-ethereum/tmp/0-jpg/0-result-1624435857-27.jpg\", \"/Users/andreasbanholzer/PROJEKTE/2020-04-28--bewerbungen/1-bewerbungen/49-gründerwettbewerb/2-statistiken/0-research/0-ethereum/tmp/0-jpg/0-result-1624435857-28.jpg\", \"/Users/andreasbanholzer/PROJEKTE/2020-04-28--bewerbungen/1-bewerbungen/49-gründerwettbewerb/2-statistiken/0-research/0-ethereum/tmp/0-jpg/0-result-1624435857-29.jpg\", \"/Users/andreasbanholzer/PROJEKTE/2020-04-28--bewerbungen/1-bewerbungen/49-gründerwettbewerb/2-statistiken/0-research/0-ethereum/tmp/0-jpg/0-result-1624435857-3.jpg\", \"/Users/andreasbanholzer/PROJEKTE/2020-04-28--bewerbungen/1-bewerbungen/49-gründerwettbewerb/2-statistiken/0-research/0-ethereum/tmp/0-jpg/0-result-1624435857-30.jpg\", \"/Users/andreasbanholzer/PROJEKTE/2020-04-28--bewerbungen/1-bewerbungen/49-gründerwettbewerb/2-statistiken/0-research/0-ethereum/tmp/0-jpg/0-result-1624435857-31.jpg\", \"/Users/andreasbanholzer/PROJEKTE/2020-04-28--bewerbungen/1-bewerbungen/49-gründerwettbewerb/2-statistiken/0-research/0-ethereum/tmp/0-jpg/0-result-1624435857-32.jpg\", \"/Users/andreasbanholzer/PROJEKTE/2020-04-28--bewerbungen/1-bewerbungen/49-gründerwettbewerb/2-statistiken/0-research/0-ethereum/tmp/0-jpg/0-result-1624435857-33.jpg\", \"/Users/andreasbanholzer/PROJEKTE/2020-04-28--bewerbungen/1-bewerbungen/49-gründerwettbewerb/2-statistiken/0-research/0-ethereum/tmp/0-jpg/0-result-1624435857-34.jpg\", \"/Users/andreasbanholzer/PROJEKTE/2020-04-28--bewerbungen/1-bewerbungen/49-gründerwettbewerb/2-statistiken/0-research/0-ethereum/tmp/0-jpg/0-result-1624435857-35.jpg\", \"/Users/andreasbanholzer/PROJEKTE/2020-04-28--bewerbungen/1-bewerbungen/49-gründerwettbewerb/2-statistiken/0-research/0-ethereum/tmp/0-jpg/0-result-1624435857-36.jpg\", \"/Users/andreasbanholzer/PROJEKTE/2020-04-28--bewerbungen/1-bewerbungen/49-gründerwettbewerb/2-statistiken/0-research/0-ethereum/tmp/0-jpg/0-result-1624435857-37.jpg\", \"/Users/andreasbanholzer/PROJEKTE/2020-04-28--bewerbungen/1-bewerbungen/49-gründerwettbewerb/2-statistiken/0-research/0-ethereum/tmp/0-jpg/0-result-1624435857-38.jpg\", \"/Users/andreasbanholzer/PROJEKTE/2020-04-28--bewerbungen/1-bewerbungen/49-gründerwettbewerb/2-statistiken/0-research/0-ethereum/tmp/0-jpg/0-result-1624435857-39.jpg\", \"/Users/andreasbanholzer/PROJEKTE/2020-04-28--bewerbungen/1-bewerbungen/49-gründerwettbewerb/2-statistiken/0-research/0-ethereum/tmp/0-jpg/0-result-1624435857-4.jpg\", \"/Users/andreasbanholzer/PROJEKTE/2020-04-28--bewerbungen/1-bewerbungen/49-gründerwettbewerb/2-statistiken/0-research/0-ethereum/tmp/0-jpg/0-result-1624435857-40.jpg\", \"/Users/andreasbanholzer/PROJEKTE/2020-04-28--bewerbungen/1-bewerbungen/49-gründerwettbewerb/2-statistiken/0-research/0-ethereum/tmp/0-jpg/0-result-1624435857-41.jpg\", \"/Users/andreasbanholzer/PROJEKTE/2020-04-28--bewerbungen/1-bewerbungen/49-gründerwettbewerb/2-statistiken/0-research/0-ethereum/tmp/0-jpg/0-result-1624435857-5.jpg\", \"/Users/andreasbanholzer/PROJEKTE/2020-04-28--bewerbungen/1-bewerbungen/49-gründerwettbewerb/2-statistiken/0-research/0-ethereum/tmp/0-jpg/0-result-1624435857-6.jpg\", \"/Users/andreasbanholzer/PROJEKTE/2020-04-28--bewerbungen/1-bewerbungen/49-gründerwettbewerb/2-statistiken/0-research/0-ethereum/tmp/0-jpg/0-result-1624435857-7.jpg\", \"/Users/andreasbanholzer/PROJEKTE/2020-04-28--bewerbungen/1-bewerbungen/49-gründerwettbewerb/2-statistiken/0-research/0-ethereum/tmp/0-jpg/0-result-1624435857-8.jpg\", \"/Users/andreasbanholzer/PROJEKTE/2020-04-28--bewerbungen/1-bewerbungen/49-gründerwettbewerb/2-statistiken/0-research/0-ethereum/tmp/0-jpg/0-result-1624435857-9.jpg\", \"/Users/andreasbanholzer/PROJEKTE/2020-04-28--bewerbungen/1-bewerbungen/49-gründerwettbewerb/2-statistiken/0-research/0-ethereum/tmp/0-jpg/1.jpg\", \"/Users/andreasbanholzer/PROJEKTE/2020-04-28--bewerbungen/1-bewerbungen/49-gründerwettbewerb/2-statistiken/0-research/0-ethereum/tmp/0-jpg/10.jpg\", \"/Users/andreasbanholzer/PROJEKTE/2020-04-28--bewerbungen/1-bewerbungen/49-gründerwettbewerb/2-statistiken/0-research/0-ethereum/tmp/0-jpg/11.jpg\", \"/Users/andreasbanholzer/PROJEKTE/2020-04-28--bewerbungen/1-bewerbungen/49-gründerwettbewerb/2-statistiken/0-research/0-ethereum/tmp/0-jpg/12.jpg\", \"/Users/andreasbanholzer/PROJEKTE/2020-04-28--bewerbungen/1-bewerbungen/49-gründerwettbewerb/2-statistiken/0-research/0-ethereum/tmp/0-jpg/2.jpg\", \"/Users/andreasbanholzer/PROJEKTE/2020-04-28--bewerbungen/1-bewerbungen/49-gründerwettbewerb/2-statistiken/0-research/0-ethereum/tmp/0-jpg/3.jpg\", \"/Users/andreasbanholzer/PROJEKTE/2020-04-28--bewerbungen/1-bewerbungen/49-gründerwettbewerb/2-statistiken/0-research/0-ethereum/tmp/0-jpg/4.jpg\", \"/Users/andreasbanholzer/PROJEKTE/2020-04-28--bewerbungen/1-bewerbungen/49-gründerwettbewerb/2-statistiken/0-research/0-ethereum/tmp/0-jpg/5.jpg\", \"/Users/andreasbanholzer/PROJEKTE/2020-04-28--bewerbungen/1-bewerbungen/49-gründerwettbewerb/2-statistiken/0-research/0-ethereum/tmp/0-jpg/6.jpg\", \"/Users/andreasbanholzer/PROJEKTE/2020-04-28--bewerbungen/1-bewerbungen/49-gründerwettbewerb/2-statistiken/0-research/0-ethereum/tmp/0-jpg/7.jpg\", \"/Users/andreasbanholzer/PROJEKTE/2020-04-28--bewerbungen/1-bewerbungen/49-gründerwettbewerb/2-statistiken/0-research/0-ethereum/tmp/0-jpg/8.jpg\", \"/Users/andreasbanholzer/PROJEKTE/2020-04-28--bewerbungen/1-bewerbungen/49-gründerwettbewerb/2-statistiken/0-research/0-ethereum/tmp/0-jpg/9.jpg\", \"/Users/andreasbanholzer/PROJEKTE/2020-04-28--bewerbungen/1-bewerbungen/49-gründerwettbewerb/2-statistiken/0-research/0-ethereum/tmp/0-jpg/A-ethereum-eip-overview-0.jpg\", \"/Users/andreasbanholzer/PROJEKTE/2020-04-28--bewerbungen/1-bewerbungen/49-gründerwettbewerb/2-statistiken/0-research/0-ethereum/tmp/0-jpg/A-ethereum-eip-overview-1.jpg\", \"/Users/andreasbanholzer/PROJEKTE/2020-04-28--bewerbungen/1-bewerbungen/49-gründerwettbewerb/2-statistiken/0-research/0-ethereum/tmp/0-jpg/A-ethereum-eip-overview-2.jpg\", \"/Users/andreasbanholzer/PROJEKTE/2020-04-28--bewerbungen/1-bewerbungen/49-gründerwettbewerb/2-statistiken/0-research/0-ethereum/tmp/0-jpg/A-ethereum-eip-overview-3.jpg\", \"/Users/andreasbanholzer/PROJEKTE/2020-04-28--bewerbungen/1-bewerbungen/49-gründerwettbewerb/2-statistiken/0-research/0-ethereum/tmp/0-jpg/B-ethereum-erc20-overview-0.jpg\", \"/Users/andreasbanholzer/PROJEKTE/2020-04-28--bewerbungen/1-bewerbungen/49-gründerwettbewerb/2-statistiken/0-research/0-ethereum/tmp/0-jpg/B-ethereum-erc20-overview-1.jpg\", \"/Users/andreasbanholzer/PROJEKTE/2020-04-28--bewerbungen/1-bewerbungen/49-gründerwettbewerb/2-statistiken/0-research/0-ethereum/tmp/0-jpg/B-ethereum-erc20-overview-2.jpg\", \"/Users/andreasbanholzer/PROJEKTE/2020-04-28--bewerbungen/1-bewerbungen/49-gründerwettbewerb/2-statistiken/0-research/0-ethereum/tmp/0-jpg/C-ethereum-erc721-overview.pdf-0.jpg\", \"/Users/andreasbanholzer/PROJEKTE/2020-04-28--bewerbungen/1-bewerbungen/49-gründerwettbewerb/2-statistiken/0-research/0-ethereum/tmp/0-jpg/C-ethereum-erc721-overview.pdf-1.jpg\", \"/Users/andreasbanholzer/PROJEKTE/2020-04-28--bewerbungen/1-bewerbungen/49-gründerwettbewerb/2-statistiken/0-research/0-ethereum/A-images/1.png\", \"/Users/andreasbanholzer/PROJEKTE/2020-04-28--bewerbungen/1-bewerbungen/49-gründerwettbewerb/2-statistiken/0-research/0-ethereum/A-images/10.png\", \"/Users/andreasbanholzer/PROJEKTE/2020-04-28--bewerbungen/1-bewerbungen/49-gründerwettbewerb/2-statistiken/0-research/0-ethereum/A-images/11.png\", \"/Users/andreasbanholzer/PROJEKTE/2020-04-28--bewerbungen/1-bewerbungen/49-gründerwettbewerb/2-statistiken/0-research/0-ethereum/A-images/12.png\", \"/Users/andreasbanholzer/PROJEKTE/2020-04-28--bewerbungen/1-bewerbungen/49-gründerwettbewerb/2-statistiken/0-research/0-ethereum/A-images/2.png\", \"/Users/andreasbanholzer/PROJEKTE/2020-04-28--bewerbungen/1-bewerbungen/49-gründerwettbewerb/2-statistiken/0-research/0-ethereum/A-images/3.png\", \"/Users/andreasbanholzer/PROJEKTE/2020-04-28--bewerbungen/1-bewerbungen/49-gründerwettbewerb/2-statistiken/0-research/0-ethereum/A-images/5.png\", \"/Users/andreasbanholzer/PROJEKTE/2020-04-28--bewerbungen/1-bewerbungen/49-gründerwettbewerb/2-statistiken/0-research/0-ethereum/A-images/6.png\", \"/Users/andreasbanholzer/PROJEKTE/2020-04-28--bewerbungen/1-bewerbungen/49-gründerwettbewerb/2-statistiken/0-research/0-ethereum/A-images/7.png\", \"/Users/andreasbanholzer/PROJEKTE/2020-04-28--bewerbungen/1-bewerbungen/49-gründerwettbewerb/2-statistiken/0-research/0-ethereum/A-images/9.png\", \"/Users/andreasbanholzer/PROJEKTE/2020-04-28--bewerbungen/1-bewerbungen/49-gründerwettbewerb/2-statistiken/0-research/0-ethereum/B-images/1.png\", \"/Users/andreasbanholzer/PROJEKTE/2020-04-28--bewerbungen/1-bewerbungen/49-gründerwettbewerb/2-statistiken/0-research/0-ethereum/B-images/2.png\", \"/Users/andreasbanholzer/PROJEKTE/2020-04-28--bewerbungen/1-bewerbungen/49-gründerwettbewerb/2-statistiken/0-research/0-ethereum/B-images/3.png\", \"/Users/andreasbanholzer/PROJEKTE/2020-04-28--bewerbungen/1-bewerbungen/49-gründerwettbewerb/2-statistiken/0-research/0-ethereum/B-images/4.png\", \"/Users/andreasbanholzer/PROJEKTE/2020-04-28--bewerbungen/1-bewerbungen/49-gründerwettbewerb/2-statistiken/0-research/0-ethereum/B-images/5.png\", \"/Users/andreasbanholzer/PROJEKTE/2020-04-28--bewerbungen/1-bewerbungen/49-gründerwettbewerb/2-statistiken/0-research/0-ethereum/B-images/6.png\", \"/Users/andreasbanholzer/PROJEKTE/2020-04-28--bewerbungen/1-bewerbungen/49-gründerwettbewerb/2-statistiken/0-research/0-ethereum/B-images/7.png\", \"/Users/andreasbanholzer/PROJEKTE/2020-04-28--bewerbungen/1-bewerbungen/49-gründerwettbewerb/2-statistiken/0-research/0-ethereum/B-images/8.png\", \"/Users/andreasbanholzer/PROJEKTE/2020-04-28--bewerbungen/1-bewerbungen/49-gründerwettbewerb/2-statistiken/0-research/0-ethereum/C-images/1.png\", \"/Users/andreasbanholzer/PROJEKTE/2020-04-28--bewerbungen/1-bewerbungen/49-gründerwettbewerb/2-statistiken/0-research/0-ethereum/C-images/2.png\", \"/Users/andreasbanholzer/PROJEKTE/2020-04-28--bewerbungen/1-bewerbungen/49-gründerwettbewerb/2-statistiken/0-research/0-ethereum/C-images/3.png\", \"/Users/andreasbanholzer/PROJEKTE/2020-04-28--bewerbungen/1-bewerbungen/49-gründerwettbewerb/2-statistiken/0-research/0-ethereum/C-images/4.png\", \"/Users/andreasbanholzer/PROJEKTE/2020-04-28--bewerbungen/1-bewerbungen/49-gründerwettbewerb/2-statistiken/0-research/0-ethereum/C-images/5.png\", \"/Users/andreasbanholzer/PROJEKTE/2020-04-28--bewerbungen/1-bewerbungen/49-gründerwettbewerb/2-statistiken/0-research/0-ethereum/0-result/0-result-1624435489.pdf\", \"/Users/andreasbanholzer/PROJEKTE/2020-04-28--bewerbungen/1-bewerbungen/49-gründerwettbewerb/2-statistiken/0-research/0-ethereum/0-result/0-result-1624435857.pdf\", \"/Users/andreasbanholzer/PROJEKTE/2020-04-28--bewerbungen/1-bewerbungen/49-gründerwettbewerb/2-statistiken/0-research/0-ethereum/0-result/0-result-1624436150.pdf\", \"/Users/andreasbanholzer/PROJEKTE/2020-04-28--bewerbungen/1-bewerbungen/49-gründerwettbewerb/2-statistiken/0-research/0-ethereum/A-ethereum-eip-overview.pdf\", \"/Users/andreasbanholzer/PROJEKTE/2020-04-28--bewerbungen/1-bewerbungen/49-gründerwettbewerb/2-statistiken/0-research/0-ethereum/B-ethereum-erc20-overview.pdf\", \"/Users/andreasbanholzer/PROJEKTE/2020-04-28--bewerbungen/1-bewerbungen/49-gründerwettbewerb/2-statistiken/0-research/0-ethereum/C-ethereum-erc721-overview.pdf.pdf\", \"/Users/andreasbanholzer/PROJEKTE/2020-04-28--bewerbungen/1-bewerbungen/49-gründerwettbewerb/2-statistiken/0-research/0-ethereum/tmp/1-pdf-single--w-footer/0-result-1624435489-0.pdf\", \"/Users/andreasbanholzer/PROJEKTE/2020-04-28--bewerbungen/1-bewerbungen/49-gründerwettbewerb/2-statistiken/0-research/0-ethereum/tmp/1-pdf-single--w-footer/0-result-1624435489-1.pdf\", \"/Users/andreasbanholzer/PROJEKTE/2020-04-28--bewerbungen/1-bewerbungen/49-gründerwettbewerb/2-statistiken/0-research/0-ethereum/tmp/1-pdf-single--w-footer/0-result-1624435489-10.pdf\", \"/Users/andreasbanholzer/PROJEKTE/2020-04-28--bewerbungen/1-bewerbungen/49-gründerwettbewerb/2-statistiken/0-research/0-ethereum/tmp/1-pdf-single--w-footer/0-result-1624435489-11.pdf\", \"/Users/andreasbanholzer/PROJEKTE/2020-04-28--bewerbungen/1-bewerbungen/49-gründerwettbewerb/2-statistiken/0-research/0-ethereum/tmp/1-pdf-single--w-footer/0-result-1624435489-12.pdf\", \"/Users/andreasbanholzer/PROJEKTE/2020-04-28--bewerbungen/1-bewerbungen/49-gründerwettbewerb/2-statistiken/0-research/0-ethereum/tmp/1-pdf-single--w-footer/0-result-1624435489-13.pdf\", \"/Users/andreasbanholzer/PROJEKTE/2020-04-28--bewerbungen/1-bewerbungen/49-gründerwettbewerb/2-statistiken/0-research/0-ethereum/tmp/1-pdf-single--w-footer/0-result-1624435489-14.pdf\", \"/Users/andreasbanholzer/PROJEKTE/2020-04-28--bewerbungen/1-bewerbungen/49-gründerwettbewerb/2-statistiken/0-research/0-ethereum/tmp/1-pdf-single--w-footer/0-result-1624435489-15.pdf\", \"/Users/andreasbanholzer/PROJEKTE/2020-04-28--bewerbungen/1-bewerbungen/49-gründerwettbewerb/2-statistiken/0-research/0-ethereum/tmp/1-pdf-single--w-footer/0-result-1624435489-16.pdf\", \"/Users/andreasbanholzer/PROJEKTE/2020-04-28--bewerbungen/1-bewerbungen/49-gründerwettbewerb/2-statistiken/0-research/0-ethereum/tmp/1-pdf-single--w-footer/0-result-1624435489-17.pdf\", \"/Users/andreasbanholzer/PROJEKTE/2020-04-28--bewerbungen/1-bewerbungen/49-gründerwettbewerb/2-statistiken/0-research/0-ethereum/tmp/1-pdf-single--w-footer/0-result-1624435489-18.pdf\", \"/Users/andreasbanholzer/PROJEKTE/2020-04-28--bewerbungen/1-bewerbungen/49-gründerwettbewerb/2-statistiken/0-research/0-ethereum/tmp/1-pdf-single--w-footer/0-result-1624435489-19.pdf\", \"/Users/andreasbanholzer/PROJEKTE/2020-04-28--bewerbungen/1-bewerbungen/49-gründerwettbewerb/2-statistiken/0-research/0-ethereum/tmp/1-pdf-single--w-footer/0-result-1624435489-2.pdf\", \"/Users/andreasbanholzer/PROJEKTE/2020-04-28--bewerbungen/1-bewerbungen/49-gründerwettbewerb/2-statistiken/0-research/0-ethereum/tmp/1-pdf-single--w-footer/0-result-1624435489-20.pdf\", \"/Users/andreasbanholzer/PROJEKTE/2020-04-28--bewerbungen/1-bewerbungen/49-gründerwettbewerb/2-statistiken/0-research/0-ethereum/tmp/1-pdf-single--w-footer/0-result-1624435489-3.pdf\", \"/Users/andreasbanholzer/PROJEKTE/2020-04-28--bewerbungen/1-bewerbungen/49-gründerwettbewerb/2-statistiken/0-research/0-ethereum/tmp/1-pdf-single--w-footer/0-result-1624435489-4.pdf\", \"/Users/andreasbanholzer/PROJEKTE/2020-04-28--bewerbungen/1-bewerbungen/49-gründerwettbewerb/2-statistiken/0-research/0-ethereum/tmp/1-pdf-single--w-footer/0-result-1624435489-5.pdf\", \"/Users/andreasbanholzer/PROJEKTE/2020-04-28--bewerbungen/1-bewerbungen/49-gründerwettbewerb/2-statistiken/0-research/0-ethereum/tmp/1-pdf-single--w-footer/0-result-1624435489-6.pdf\", \"/Users/andreasbanholzer/PROJEKTE/2020-04-28--bewerbungen/1-bewerbungen/49-gründerwettbewerb/2-statistiken/0-research/0-ethereum/tmp/1-pdf-single--w-footer/0-result-1624435489-7.pdf\", \"/Users/andreasbanholzer/PROJEKTE/2020-04-28--bewerbungen/1-bewerbungen/49-gründerwettbewerb/2-statistiken/0-research/0-ethereum/tmp/1-pdf-single--w-footer/0-result-1624435489-8.pdf\", \"/Users/andreasbanholzer/PROJEKTE/2020-04-28--bewerbungen/1-bewerbungen/49-gründerwettbewerb/2-statistiken/0-research/0-ethereum/tmp/1-pdf-single--w-footer/0-result-1624435489-9.pdf\", \"/Users/andreasbanholzer/PROJEKTE/2020-04-28--bewerbungen/1-bewerbungen/49-gründerwettbewerb/2-statistiken/0-research/0-ethereum/tmp/1-pdf-single--w-footer/0-result-1624435857-0.pdf\", \"/Users/andreasbanholzer/PROJEKTE/2020-04-28--bewerbungen/1-bewerbungen/49-gründerwettbewerb/2-statistiken/0-research/0-ethereum/tmp/1-pdf-single--w-footer/0-result-1624435857-1.pdf\", \"/Users/andreasbanholzer/PROJEKTE/2020-04-28--bewerbungen/1-bewerbungen/49-gründerwettbewerb/2-statistiken/0-research/0-ethereum/tmp/1-pdf-single--w-footer/0-result-1624435857-10.pdf\", \"/Users/andreasbanholzer/PROJEKTE/2020-04-28--bewerbungen/1-bewerbungen/49-gründerwettbewerb/2-statistiken/0-research/0-ethereum/tmp/1-pdf-single--w-footer/0-result-1624435857-11.pdf\", \"/Users/andreasbanholzer/PROJEKTE/2020-04-28--bewerbungen/1-bewerbungen/49-gründerwettbewerb/2-statistiken/0-research/0-ethereum/tmp/1-pdf-single--w-footer/0-result-1624435857-12.pdf\", \"/Users/andreasbanholzer/PROJEKTE/2020-04-28--bewerbungen/1-bewerbungen/49-gründerwettbewerb/2-statistiken/0-research/0-ethereum/tmp/1-pdf-single--w-footer/0-result-1624435857-13.pdf\", \"/Users/andreasbanholzer/PROJEKTE/2020-04-28--bewerbungen/1-bewerbungen/49-gründerwettbewerb/2-statistiken/0-research/0-ethereum/tmp/1-pdf-single--w-footer/0-result-1624435857-14.pdf\", \"/Users/andreasbanholzer/PROJEKTE/2020-04-28--bewerbungen/1-bewerbungen/49-gründerwettbewerb/2-statistiken/0-research/0-ethereum/tmp/1-pdf-single--w-footer/0-result-1624435857-15.pdf\", \"/Users/andreasbanholzer/PROJEKTE/2020-04-28--bewerbungen/1-bewerbungen/49-gründerwettbewerb/2-statistiken/0-research/0-ethereum/tmp/1-pdf-single--w-footer/0-result-1624435857-16.pdf\", \"/Users/andreasbanholzer/PROJEKTE/2020-04-28--bewerbungen/1-bewerbungen/49-gründerwettbewerb/2-statistiken/0-research/0-ethereum/tmp/1-pdf-single--w-footer/0-result-1624435857-17.pdf\", \"/Users/andreasbanholzer/PROJEKTE/2020-04-28--bewerbungen/1-bewerbungen/49-gründerwettbewerb/2-statistiken/0-research/0-ethereum/tmp/1-pdf-single--w-footer/0-result-1624435857-18.pdf\", \"/Users/andreasbanholzer/PROJEKTE/2020-04-28--bewerbungen/1-bewerbungen/49-gründerwettbewerb/2-statistiken/0-research/0-ethereum/tmp/1-pdf-single--w-footer/0-result-1624435857-19.pdf\", \"/Users/andreasbanholzer/PROJEKTE/2020-04-28--bewerbungen/1-bewerbungen/49-gründerwettbewerb/2-statistiken/0-research/0-ethereum/tmp/1-pdf-single--w-footer/0-result-1624435857-2.pdf\", \"/Users/andreasbanholzer/PROJEKTE/2020-04-28--bewerbungen/1-bewerbungen/49-gründerwettbewerb/2-statistiken/0-research/0-ethereum/tmp/1-pdf-single--w-footer/0-result-1624435857-20.pdf\", \"/Users/andreasbanholzer/PROJEKTE/2020-04-28--bewerbungen/1-bewerbungen/49-gründerwettbewerb/2-statistiken/0-research/0-ethereum/tmp/1-pdf-single--w-footer/0-result-1624435857-21.pdf\", \"/Users/andreasbanholzer/PROJEKTE/2020-04-28--bewerbungen/1-bewerbungen/49-gründerwettbewerb/2-statistiken/0-research/0-ethereum/tmp/1-pdf-single--w-footer/0-result-1624435857-22.pdf\", \"/Users/andreasbanholzer/PROJEKTE/2020-04-28--bewerbungen/1-bewerbungen/49-gründerwettbewerb/2-statistiken/0-research/0-ethereum/tmp/1-pdf-single--w-footer/0-result-1624435857-23.pdf\", \"/Users/andreasbanholzer/PROJEKTE/2020-04-28--bewerbungen/1-bewerbungen/49-gründerwettbewerb/2-statistiken/0-research/0-ethereum/tmp/1-pdf-single--w-footer/0-result-1624435857-24.pdf\", \"/Users/andreasbanholzer/PROJEKTE/2020-04-28--bewerbungen/1-bewerbungen/49-gründerwettbewerb/2-statistiken/0-research/0-ethereum/tmp/1-pdf-single--w-footer/0-result-1624435857-25.pdf\", \"/Users/andreasbanholzer/PROJEKTE/2020-04-28--bewerbungen/1-bewerbungen/49-gründerwettbewerb/2-statistiken/0-research/0-ethereum/tmp/1-pdf-single--w-footer/0-result-1624435857-26.pdf\", \"/Users/andreasbanholzer/PROJEKTE/2020-04-28--bewerbungen/1-bewerbungen/49-gründerwettbewerb/2-statistiken/0-research/0-ethereum/tmp/1-pdf-single--w-footer/0-result-1624435857-27.pdf\", \"/Users/andreasbanholzer/PROJEKTE/2020-04-28--bewerbungen/1-bewerbungen/49-gründerwettbewerb/2-statistiken/0-research/0-ethereum/tmp/1-pdf-single--w-footer/0-result-1624435857-28.pdf\", \"/Users/andreasbanholzer/PROJEKTE/2020-04-28--bewerbungen/1-bewerbungen/49-gründerwettbewerb/2-statistiken/0-research/0-ethereum/tmp/1-pdf-single--w-footer/0-result-1624435857-29.pdf\", \"/Users/andreasbanholzer/PROJEKTE/2020-04-28--bewerbungen/1-bewerbungen/49-gründerwettbewerb/2-statistiken/0-research/0-ethereum/tmp/1-pdf-single--w-footer/0-result-1624435857-3.pdf\", \"/Users/andreasbanholzer/PROJEKTE/2020-04-28--bewerbungen/1-bewerbungen/49-gründerwettbewerb/2-statistiken/0-research/0-ethereum/tmp/1-pdf-single--w-footer/0-result-1624435857-30.pdf\", \"/Users/andreasbanholzer/PROJEKTE/2020-04-28--bewerbungen/1-bewerbungen/49-gründerwettbewerb/2-statistiken/0-research/0-ethereum/tmp/1-pdf-single--w-footer/0-result-1624435857-31.pdf\", \"/Users/andreasbanholzer/PROJEKTE/2020-04-28--bewerbungen/1-bewerbungen/49-gründerwettbewerb/2-statistiken/0-research/0-ethereum/tmp/1-pdf-single--w-footer/0-result-1624435857-32.pdf\", \"/Users/andreasbanholzer/PROJEKTE/2020-04-28--bewerbungen/1-bewerbungen/49-gründerwettbewerb/2-statistiken/0-research/0-ethereum/tmp/1-pdf-single--w-footer/0-result-1624435857-33.pdf\", \"/Users/andreasbanholzer/PROJEKTE/2020-04-28--bewerbungen/1-bewerbungen/49-gründerwettbewerb/2-statistiken/0-research/0-ethereum/tmp/1-pdf-single--w-footer/0-result-1624435857-34.pdf\", \"/Users/andreasbanholzer/PROJEKTE/2020-04-28--bewerbungen/1-bewerbungen/49-gründerwettbewerb/2-statistiken/0-research/0-ethereum/tmp/1-pdf-single--w-footer/0-result-1624435857-35.pdf\", \"/Users/andreasbanholzer/PROJEKTE/2020-04-28--bewerbungen/1-bewerbungen/49-gründerwettbewerb/2-statistiken/0-research/0-ethereum/tmp/1-pdf-single--w-footer/0-result-1624435857-36.pdf\", \"/Users/andreasbanholzer/PROJEKTE/2020-04-28--bewerbungen/1-bewerbungen/49-gründerwettbewerb/2-statistiken/0-research/0-ethereum/tmp/1-pdf-single--w-footer/0-result-1624435857-37.pdf\", \"/Users/andreasbanholzer/PROJEKTE/2020-04-28--bewerbungen/1-bewerbungen/49-gründerwettbewerb/2-statistiken/0-research/0-ethereum/tmp/1-pdf-single--w-footer/0-result-1624435857-38.pdf\", \"/Users/andreasbanholzer/PROJEKTE/2020-04-28--bewerbungen/1-bewerbungen/49-gründerwettbewerb/2-statistiken/0-research/0-ethereum/tmp/1-pdf-single--w-footer/0-result-1624435857-39.pdf\", \"/Users/andreasbanholzer/PROJEKTE/2020-04-28--bewerbungen/1-bewerbungen/49-gründerwettbewerb/2-statistiken/0-research/0-ethereum/tmp/1-pdf-single--w-footer/0-result-1624435857-4.pdf\", \"/Users/andreasbanholzer/PROJEKTE/2020-04-28--bewerbungen/1-bewerbungen/49-gründerwettbewerb/2-statistiken/0-research/0-ethereum/tmp/1-pdf-single--w-footer/0-result-1624435857-40.pdf\", \"/Users/andreasbanholzer/PROJEKTE/2020-04-28--bewerbungen/1-bewerbungen/49-gründerwettbewerb/2-statistiken/0-research/0-ethereum/tmp/1-pdf-single--w-footer/0-result-1624435857-41.pdf\", \"/Users/andreasbanholzer/PROJEKTE/2020-04-28--bewerbungen/1-bewerbungen/49-gründerwettbewerb/2-statistiken/0-research/0-ethereum/tmp/1-pdf-single--w-footer/0-result-1624435857-5.pdf\", \"/Users/andreasbanholzer/PROJEKTE/2020-04-28--bewerbungen/1-bewerbungen/49-gründerwettbewerb/2-statistiken/0-research/0-ethereum/tmp/1-pdf-single--w-footer/0-result-1624435857-6.pdf\", \"/Users/andreasbanholzer/PROJEKTE/2020-04-28--bewerbungen/1-bewerbungen/49-gründerwettbewerb/2-statistiken/0-research/0-ethereum/tmp/1-pdf-single--w-footer/0-result-1624435857-7.pdf\", \"/Users/andreasbanholzer/PROJEKTE/2020-04-28--bewerbungen/1-bewerbungen/49-gründerwettbewerb/2-statistiken/0-research/0-ethereum/tmp/1-pdf-single--w-footer/0-result-1624435857-8.pdf\", \"/Users/andreasbanholzer/PROJEKTE/2020-04-28--bewerbungen/1-bewerbungen/49-gründerwettbewerb/2-statistiken/0-research/0-ethereum/tmp/1-pdf-single--w-footer/0-result-1624435857-9.pdf\", \"/Users/andreasbanholzer/PROJEKTE/2020-04-28--bewerbungen/1-bewerbungen/49-gründerwettbewerb/2-statistiken/0-research/0-ethereum/tmp/1-pdf-single--w-footer/1.pdf\", \"/Users/andreasbanholzer/PROJEKTE/2020-04-28--bewerbungen/1-bewerbungen/49-gründerwettbewerb/2-statistiken/0-research/0-ethereum/tmp/1-pdf-single--w-footer/10.pdf\", \"/Users/andreasbanholzer/PROJEKTE/2020-04-28--bewerbungen/1-bewerbungen/49-gründerwettbewerb/2-statistiken/0-research/0-ethereum/tmp/1-pdf-single--w-footer/11.pdf\", \"/Users/andreasbanholzer/PROJEKTE/2020-04-28--bewerbungen/1-bewerbungen/49-gründerwettbewerb/2-statistiken/0-research/0-ethereum/tmp/1-pdf-single--w-footer/12.pdf\", \"/Users/andreasbanholzer/PROJEKTE/2020-04-28--bewerbungen/1-bewerbungen/49-gründerwettbewerb/2-statistiken/0-research/0-ethereum/tmp/1-pdf-single--w-footer/2.pdf\", \"/Users/andreasbanholzer/PROJEKTE/2020-04-28--bewerbungen/1-bewerbungen/49-gründerwettbewerb/2-statistiken/0-research/0-ethereum/tmp/1-pdf-single--w-footer/3.pdf\", \"/Users/andreasbanholzer/PROJEKTE/2020-04-28--bewerbungen/1-bewerbungen/49-gründerwettbewerb/2-statistiken/0-research/0-ethereum/tmp/1-pdf-single--w-footer/4.pdf\", \"/Users/andreasbanholzer/PROJEKTE/2020-04-28--bewerbungen/1-bewerbungen/49-gründerwettbewerb/2-statistiken/0-research/0-ethereum/tmp/1-pdf-single--w-footer/5.pdf\", \"/Users/andreasbanholzer/PROJEKTE/2020-04-28--bewerbungen/1-bewerbungen/49-gründerwettbewerb/2-statistiken/0-research/0-ethereum/tmp/1-pdf-single--w-footer/6.pdf\", \"/Users/andreasbanholzer/PROJEKTE/2020-04-28--bewerbungen/1-bewerbungen/49-gründerwettbewerb/2-statistiken/0-research/0-ethereum/tmp/1-pdf-single--w-footer/7.pdf\", \"/Users/andreasbanholzer/PROJEKTE/2020-04-28--bewerbungen/1-bewerbungen/49-gründerwettbewerb/2-statistiken/0-research/0-ethereum/tmp/1-pdf-single--w-footer/8.pdf\", \"/Users/andreasbanholzer/PROJEKTE/2020-04-28--bewerbungen/1-bewerbungen/49-gründerwettbewerb/2-statistiken/0-research/0-ethereum/tmp/1-pdf-single--w-footer/9.pdf\", \"/Users/andreasbanholzer/PROJEKTE/2020-04-28--bewerbungen/1-bewerbungen/49-gründerwettbewerb/2-statistiken/0-research/0-ethereum/tmp/1-pdf-single--w-footer/A-ethereum-eip-overview-0.pdf\", \"/Users/andreasbanholzer/PROJEKTE/2020-04-28--bewerbungen/1-bewerbungen/49-gründerwettbewerb/2-statistiken/0-research/0-ethereum/tmp/1-pdf-single--w-footer/A-ethereum-eip-overview-1.pdf\", \"/Users/andreasbanholzer/PROJEKTE/2020-04-28--bewerbungen/1-bewerbungen/49-gründerwettbewerb/2-statistiken/0-research/0-ethereum/tmp/1-pdf-single--w-footer/A-ethereum-eip-overview-2.pdf\", \"/Users/andreasbanholzer/PROJEKTE/2020-04-28--bewerbungen/1-bewerbungen/49-gründerwettbewerb/2-statistiken/0-research/0-ethereum/tmp/1-pdf-single--w-footer/A-ethereum-eip-overview-3.pdf\", \"/Users/andreasbanholzer/PROJEKTE/2020-04-28--bewerbungen/1-bewerbungen/49-gründerwettbewerb/2-statistiken/0-research/0-ethereum/tmp/1-pdf-single--w-footer/B-ethereum-erc20-overview-0.pdf\", \"/Users/andreasbanholzer/PROJEKTE/2020-04-28--bewerbungen/1-bewerbungen/49-gründerwettbewerb/2-statistiken/0-research/0-ethereum/tmp/1-pdf-single--w-footer/B-ethereum-erc20-overview-1.pdf\", \"/Users/andreasbanholzer/PROJEKTE/2020-04-28--bewerbungen/1-bewerbungen/49-gründerwettbewerb/2-statistiken/0-research/0-ethereum/tmp/1-pdf-single--w-footer/B-ethereum-erc20-overview-2.pdf\", \"/Users/andreasbanholzer/PROJEKTE/2020-04-28--bewerbungen/1-bewerbungen/49-gründerwettbewerb/2-statistiken/0-research/0-ethereum/tmp/1-pdf-single--w-footer/C-ethereum-erc721-overview.pdf-0.pdf\", \"/Users/andreasbanholzer/PROJEKTE/2020-04-28--bewerbungen/1-bewerbungen/49-gründerwettbewerb/2-statistiken/0-research/0-ethereum/tmp/1-pdf-single--w-footer/C-ethereum-erc721-overview.pdf-1.pdf\"]"
      ]
     },
     "execution_count": 11,
     "metadata": {},
     "output_type": "execute_result"
    }
   ],
   "source": [
    "t.each do | tt |\n",
    "  if tt.length > 50\n",
    "    p = ''\n",
    "    p += tt[ 0, 10 ]\n",
    "    p += '...'\n",
    "    p += tt[ t[ 0 ].length-40, t[ 0 ].length]\n",
    "    puts p\n",
    "  else\n",
    "    tt\n",
    "  end\n",
    "end\n"
   ]
  },
  {
   "cell_type": "code",
   "execution_count": 5,
   "id": "42e6dd1d",
   "metadata": {},
   "outputs": [
    {
     "name": "stderr",
     "output_type": "stream",
     "text": [
      "/Users/andreasbanholzer/.rvm/rubies/ruby-3.0.0-latest/lib/ruby/3.0.0/FileUtils.rb:105: warning: already initialized constant FileUtils::VERSION\n",
      "/Users/andreasbanholzer/.rvm/rubies/ruby-3.0.0-latest/lib/ruby/3.0.0/fileutils.rb:105: warning: previous definition of VERSION was here\n",
      "/Users/andreasbanholzer/.rvm/rubies/ruby-3.0.0-latest/lib/ruby/3.0.0/FileUtils.rb:1284: warning: already initialized constant FileUtils::Entry_::S_IF_DOOR\n",
      "/Users/andreasbanholzer/.rvm/rubies/ruby-3.0.0-latest/lib/ruby/3.0.0/fileutils.rb:1284: warning: previous definition of S_IF_DOOR was here\n",
      "/Users/andreasbanholzer/.rvm/rubies/ruby-3.0.0-latest/lib/ruby/3.0.0/FileUtils.rb:1577: warning: already initialized constant FileUtils::Entry_::DIRECTORY_TERM\n",
      "/Users/andreasbanholzer/.rvm/rubies/ruby-3.0.0-latest/lib/ruby/3.0.0/fileutils.rb:1577: warning: previous definition of DIRECTORY_TERM was here\n",
      "/Users/andreasbanholzer/.rvm/rubies/ruby-3.0.0-latest/lib/ruby/3.0.0/FileUtils.rb:1635: warning: already initialized constant FileUtils::OPT_TABLE\n",
      "/Users/andreasbanholzer/.rvm/rubies/ruby-3.0.0-latest/lib/ruby/3.0.0/fileutils.rb:1635: warning: previous definition of OPT_TABLE was here\n",
      "/Users/andreasbanholzer/.rvm/rubies/ruby-3.0.0-latest/lib/ruby/3.0.0/FileUtils.rb:1694: warning: already initialized constant FileUtils::LOW_METHODS\n",
      "/Users/andreasbanholzer/.rvm/rubies/ruby-3.0.0-latest/lib/ruby/3.0.0/fileutils.rb:1694: warning: previous definition of LOW_METHODS was here\n",
      "/Users/andreasbanholzer/.rvm/rubies/ruby-3.0.0-latest/lib/ruby/3.0.0/FileUtils.rb:1701: warning: already initialized constant FileUtils::METHODS\n",
      "/Users/andreasbanholzer/.rvm/rubies/ruby-3.0.0-latest/lib/ruby/3.0.0/fileutils.rb:1701: warning: previous definition of METHODS was here\n"
     ]
    },
    {
     "data": {
      "text/plain": [
       "true"
      ]
     },
     "execution_count": 5,
     "metadata": {},
     "output_type": "execute_result"
    }
   ],
   "source": [
    "def get_allow_list( params )\n",
    "    lists = {}\n",
    "    lists[:allow] = []\n",
    "    lists[:block] = []\n",
    "\n",
    "    params.keys.each do | lvl1 |\n",
    "        if params[ lvl1 ].class.to_s.eql? 'Hash'\n",
    "            params[ lvl1 ].keys.each do | lvl2 |\n",
    "                if params[ lvl1 ][ lvl2 ].class.to_s.eql? 'Hash'\n",
    "                    params[ lvl1 ][ lvl2 ].keys.each do | lvl3 |\n",
    "                        if params[ lvl1 ][ lvl2 ][ lvl3 ].class.to_s.eql? 'Hash'\n",
    "                            params[ lvl1 ][ lvl2 ][ lvl3 ].keys.each do | lvl4 |\n",
    "                                if params[ lvl1 ][ lvl2 ][ lvl3 ][ lvl4 ].class.to_s.eql? 'Hash'\n",
    "                                    params[ lvl1 ][ lvl2 ][ lvl3 ][ lvl4 ].keys.each do | lvl5 |\n",
    "                                        if params[ lvl1 ][ lvl2 ][ lvl3 ][ lvl4 ][ lvl5 ].class.to_s.eql? 'Hash'\n",
    "                                            params[ lvl1 ][ lvl2 ][ lvl3 ][ lvl4 ][ lvl5 ].keys.each do | lvl6 |\n",
    "                                                if params[ lvl1 ][ lvl2 ][ lvl3 ][ lvl4 ][ lvl5 ].class.to_s.eql? 'Hash'\n",
    "                                                else\n",
    "                                                    str = ( lvl1.to_s + '__' + lvl2.to_s + '__' + lvl3.to_s + '__' + lvl4.to_s + '__' + lvl5.to_s + '__' + lvl6.to_s ).to_sym\n",
    "                                                    if !params[ lvl1 ][ lvl2 ][ lvl3 ][ lvl4 ][ lvl5 ][ lvl6 ].nil?\n",
    "                                                        lists[:allow].push( str )\n",
    "                                                    else\n",
    "                                                        lists[:block].push( str )\n",
    "                                                    end\n",
    "                                                end\n",
    "                                            end\n",
    "                                        else\n",
    "                                            str = ( lvl1.to_s + '__' + lvl2.to_s + '__' + lvl3.to_s + '__' + lvl4.to_s + '__' + lvl5.to_s ).to_sym\n",
    "                                            if !params[ lvl1 ][ lvl2 ][ lvl3 ][ lvl4 ][ lvl5 ].nil?\n",
    "                                                lists[:allow].push( str )\n",
    "                                            else\n",
    "                                                lists[:block].push( str )\n",
    "                                            end\n",
    "                                        end\n",
    "                                    end\n",
    "                                else\n",
    "                                    str = ( lvl1.to_s + '__' + lvl2.to_s + '__' + lvl3.to_s + '__' + lvl4.to_s ).to_sym\n",
    "                                    if !params[ lvl1 ][ lvl2 ][ lvl3 ][ lvl4 ].nil?\n",
    "                                        lists[:allow].push( str )\n",
    "                                    else\n",
    "                                        lists[:block].push( str )\n",
    "                                    end\n",
    "                                end\n",
    "                            end\n",
    "                        else\n",
    "                            str = ( lvl1.to_s + '__' + lvl2.to_s + '__' + lvl3.to_s ).to_sym\n",
    "                            if !params[ lvl1 ][ lvl2 ][ lvl3 ].nil?\n",
    "                                lists[:allow].push( str )\n",
    "                            else\n",
    "                                lists[:block].push( str )\n",
    "                            end\n",
    "                        end\n",
    "                    end\n",
    "                else\n",
    "                    str = ( lvl1.to_s + '__' + lvl2.to_s ).to_sym\n",
    "                    if !params[ lvl1 ][ lvl2  ].nil? \n",
    "                        lists[:allow].push( str )\n",
    "                    else\n",
    "                        lists[:block].push( str )\n",
    "                    end\n",
    "                end\n",
    "            end\n",
    "        else\n",
    "            str = lvl1\n",
    "            if !params[ lvl1 ].nil?\n",
    "                lists[:allow].push( str )\n",
    "            else\n",
    "                lists[:block].push( str )\n",
    "            end\n",
    "        end\n",
    "    end\n",
    "    return lists\n",
    "end\n",
    "\n",
    "require '/Users/andreasbanholzer/PROJEKTE/2021-06-documents-with-footer-to-pdf/1/documents_with_footer_to_pdf/lib/documents_with_footer_to_pdf.rb'\n",
    "\n"
   ]
  },
  {
   "cell_type": "code",
   "execution_count": null,
   "id": "72dc10ed",
   "metadata": {},
   "outputs": [],
   "source": []
  },
  {
   "cell_type": "code",
   "execution_count": 6,
   "id": "874058d2",
   "metadata": {},
   "outputs": [
    {
     "name": "stdout",
     "output_type": "stream",
     "text": [
      "path__name\n",
      "path__children__tmp__name\n",
      "path__children__pdf_combined__name\n",
      "footer__position__top\n",
      "footer__position__bottom\n",
      "footer__table__left__top__text\n",
      "footer__table__left__bottom__text\n",
      "footer__table__center__top__text\n",
      "footer__table__center__bottom__text\n",
      "footer__table__right__top__text\n",
      "footer__table__right__bottom__text\n",
      "selectors__timestamp__gsub\n",
      "selectors__timestamp__key\n",
      "selectors__timestamp__strf\n",
      "selectors__page_current__gsub\n",
      "selectors__page_current__key\n",
      "selectors__page_total__gsub\n",
      "selectors__page_total__key\n",
      "selectors__enumerator_original__gsub\n",
      "selectors__enumerator_original__key\n",
      "selectors__enumerator_integer__gsub\n",
      "selectors__enumerator_integer__key\n",
      "selectors__enumerator_char__gsub\n",
      "selectors__enumerator_char__key\n",
      "selectors__enumerator_roman__gsub\n",
      "selectors__enumerator_roman__key\n",
      "selectors__filename__gsub\n",
      "selectors__filename__key\n",
      "selectors__path__gsub\n",
      "selectors__path__key\n",
      "selectors__heading__gsub\n",
      "selectors__heading__key\n",
      "selectors__subheading__gsub\n",
      "selectors__subheading__key\n",
      "params__footer__font_size\n",
      "params__document__width\n",
      "params__image__density\n",
      "params__search__subfolders\n",
      "params__search__suffixs\n",
      "params__console__length\n"
     ]
    },
    {
     "data": {
      "text/plain": [
       "[:path__name, :path__children__tmp__name, :path__children__pdf_combined__name, :footer__position__top, :footer__position__bottom, :footer__table__left__top__text, :footer__table__left__bottom__text, :footer__table__center__top__text, :footer__table__center__bottom__text, :footer__table__right__top__text, :footer__table__right__bottom__text, :selectors__timestamp__gsub, :selectors__timestamp__key, :selectors__timestamp__strf, :selectors__page_current__gsub, :selectors__page_current__key, :selectors__page_total__gsub, :selectors__page_total__key, :selectors__enumerator_original__gsub, :selectors__enumerator_original__key, :selectors__enumerator_integer__gsub, :selectors__enumerator_integer__key, :selectors__enumerator_char__gsub, :selectors__enumerator_char__key, :selectors__enumerator_roman__gsub, :selectors__enumerator_roman__key, :selectors__filename__gsub, :selectors__filename__key, :selectors__path__gsub, :selectors__path__key, :selectors__heading__gsub, :selectors__heading__key, :selectors__subheading__gsub, :selectors__subheading__key, :params__footer__font_size, :params__document__width, :params__image__density, :params__search__subfolders, :params__search__suffixs, :params__console__length]"
      ]
     },
     "execution_count": 6,
     "metadata": {},
     "output_type": "execute_result"
    }
   ],
   "source": [
    "test = DocumentsWithFooterToPdf.get_options()\n",
    "lists = get_allow_list( test )\n",
    "\n",
    "\n",
    "\n",
    "lists[:allow].each do | t |\n",
    "  puts t\n",
    "end"
   ]
  },
  {
   "cell_type": "code",
   "execution_count": null,
   "id": "c6b83cf2",
   "metadata": {},
   "outputs": [],
   "source": [
    "def markdown_options_tables( lists, params )\n",
    "  def pick_values( pick, params )\n",
    "    keys = pick\n",
    "      .to_s\n",
    "      .split( '__' )\n",
    "      .map{ | a | a.to_sym }\n",
    "    result = nil\n",
    "    case( keys.length)\n",
    "      when 1\n",
    "        result = params[ keys[ 0 ] ]\n",
    "      when 2\n",
    "        result = params[ keys[ 0 ] ][ keys[ 1 ] ]\n",
    "      when 3\n",
    "        result = params[ keys[ 0 ] ][ keys[ 1 ] ][ keys[ 2 ] ]\n",
    "      when 4\n",
    "        result = params[ keys[ 0 ] ][ keys[ 1 ] ][ keys[ 2 ] ][ keys[ 3 ] ]\n",
    "      when 5\n",
    "        result = params[ keys[ 0 ] ][ keys[ 1 ] ][ keys[ 2 ] ][ keys[ 3 ] ][ keys[ 4 ] ]\n",
    "      when 6\n",
    "        result = params[ keys[ 0 ] ][ keys[ 1 ] ][ keys[ 2 ] ][ keys[ 3 ] ][ keys[ 4 ] ][ keys[ 5 ] ]\n",
    "    end\n",
    "\n",
    "    return result\n",
    "  end\n",
    "\n",
    "  \n",
    "  sort = {}\n",
    "  lists.each do | key |\n",
    "    category = key.to_s.split( '__' )[ 0 ].to_sym\n",
    "    !sort.key?( category ) ? sort[ category ] = [] : ''\n",
    "    sort[ category ].push( key )\n",
    "  end\n",
    "\n",
    "  \n",
    "  tables = {}\n",
    "  alphabet = 'A'.upto( 'Z' ).to_a\n",
    "  sort.keys.each.with_index do | category, index |\n",
    "    char = alphabet[ index ]\n",
    "    str = ''\n",
    "    str += \"| Nr | Name | Key | Default | Type | Description |\\n\" \n",
    "    str += \"| :-- | :-- | :-- | :-- | :-- | :-- |\\n\"\n",
    "    sort[ category ].each.with_index do | key, index |\n",
    "      nr = \"#{char}.#{index + 1}.\"\n",
    "      name = key.to_s.split('__').drop( 1 ).map { | a | a[ 0, 1 ].upcase + a[ 1, a.length ]}.join( \" \" )\n",
    "      default = pick_values( key, params )\n",
    "      type = default.class.to_s\n",
    "      type.eql?('String') ? default = \"\\\"#{default}\\\"\" : ''\n",
    "      default = \"`#{default}`\"\n",
    "      str += \"| #{nr} | #{name} |:#{key} | #{default} | #{type} | |\\n\"\n",
    "    end\n",
    "    tables[ category ] = str\n",
    "  end\n",
    "\n",
    "\n",
    "  str = \"## Options\\n\"\n",
    "  tables.keys.each.with_index do | key |\n",
    "    name = key.to_s\n",
    "    name = name[ 0, 1 ].upcase + name[ 1, name.length ] \n",
    "    str += \"### \" + name + \"\\n\"\n",
    "    str += tables[ key ]\n",
    "    str += \"\\n\\n\"\n",
    "  end\n",
    "  str = str[ 0, str.rindex(\"\\n\\n\\n\")]\n",
    "  \n",
    "  return str\n",
    "end\n",
    "\n",
    "\n",
    "\n",
    "list = [\n",
    "      :path__children__tmp__name,\n",
    "      :path__children__pdf_combined__name,\n",
    "      :footer__position__top,\n",
    "      :footer__position__bottom,\n",
    "      :footer__table__left__top__text,\n",
    "      :footer__table__left__bottom__text,\n",
    "      :footer__table__center__top__text,\n",
    "      :footer__table__center__bottom__text,\n",
    "      :footer__table__right__top__text,\n",
    "      :footer__table__right__bottom__text,\n",
    "      :selectors__timestamp__gsub,\n",
    "      :selectors__timestamp__key,\n",
    "      :selectors__timestamp__strf,\n",
    "      :selectors__page_current__gsub,\n",
    "      :selectors__page_total__gsub,\n",
    "      :selectors__enumerator_original__gsub,\n",
    "      :selectors__enumerator_integer__gsub,\n",
    "      :selectors__enumerator_char__gsub,\n",
    "      :selectors__enumerator_roman__gsub,\n",
    "      :selectors__filename__gsub,\n",
    "      :selectors__path__gsub,\n",
    "      :selectors__heading__gsub,\n",
    "      :selectors__subheading__gsub,\n",
    "      :params__footer__font_size,\n",
    "      :params__document__width,\n",
    "      :params__image__density,\n",
    "      :params__search__subfolders,\n",
    "      :params__search__suffixs,\n",
    "      :params__console__length\n",
    "    ]\n",
    "\n",
    " markdown_options_tables( list, test )"
   ]
  },
  {
   "cell_type": "code",
   "execution_count": 19,
   "id": "7a925d9a",
   "metadata": {},
   "outputs": [
    {
     "data": {
      "text/plain": [
       "[:path__name, :path__children__tmp__name, :path__children__pdf_combined__name, :footer__position__top, :footer__position__bottom, :footer__table__left__top__text, :footer__table__left__bottom__text, :footer__table__center__top__text, :footer__table__center__bottom__text, :footer__table__right__top__text, :footer__table__right__bottom__text, :selectors__timestamp__gsub, :selectors__timestamp__key, :selectors__timestamp__strf, :selectors__page_current__gsub, :selectors__page_current__key, :selectors__page_total__gsub, :selectors__page_total__key, :selectors__enumerator_original__gsub, :selectors__enumerator_original__key, :selectors__enumerator_integer__gsub, :selectors__enumerator_integer__key, :selectors__enumerator_char__gsub, :selectors__enumerator_char__key, :selectors__enumerator_roman__gsub, :selectors__enumerator_roman__key, :selectors__filename__gsub, :selectors__filename__key, :selectors__path__gsub, :selectors__path__key, :selectors__heading__gsub, :selectors__heading__key, :selectors__subheading__gsub, :selectors__subheading__key, :params__footer__font_size, :params__document__width, :params__image__density, :params__search__subfolders, :params__search__suffixs, :params__console__length]"
      ]
     },
     "execution_count": 19,
     "metadata": {},
     "output_type": "execute_result"
    }
   ],
   "source": [
    "lists[:allow]"
   ]
  },
  {
   "cell_type": "code",
   "execution_count": null,
   "id": "b74f1eed",
   "metadata": {},
   "outputs": [],
   "source": []
  }
 ],
 "metadata": {
  "kernelspec": {
   "display_name": "Ruby 3.0.0",
   "language": "ruby",
   "name": "ruby"
  },
  "language_info": {
   "file_extension": ".rb",
   "mimetype": "application/x-ruby",
   "name": "ruby",
   "version": "3.0.0"
  }
 },
 "nbformat": 4,
 "nbformat_minor": 5
}
