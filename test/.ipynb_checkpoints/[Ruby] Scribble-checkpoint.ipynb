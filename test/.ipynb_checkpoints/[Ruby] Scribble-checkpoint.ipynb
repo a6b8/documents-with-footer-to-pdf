{
 "cells": [
  {
   "cell_type": "markdown",
   "id": "410856ef",
   "metadata": {},
   "source": [
    "# Functions"
   ]
  },
  {
   "cell_type": "code",
   "execution_count": 54,
   "id": "e4101e57",
   "metadata": {},
   "outputs": [
    {
     "ename": "RuntimeError",
     "evalue": "class variable access from toplevel",
     "output_type": "error",
     "traceback": [
      "\u001b[31mRuntimeError\u001b[0m: class variable access from toplevel",
      "(irb):27:in `roman_numerals'",
      "(irb):38:in `<main>'"
     ]
    }
   ],
   "source": [
    "def roman_numerals( integer )\n",
    "  def next_lower_key(integer)\n",
    "    arabics = @@values.keys\n",
    "    next_lower_index = (arabics.push(integer).sort.index(integer))-1\n",
    "    arabics[next_lower_index]\n",
    "  end\n",
    "  \n",
    "  values = {\n",
    "    1=>\"I\",\n",
    "    4=>\"IV\",\n",
    "    5=>\"V\",\n",
    "    9=>\"IX\",\n",
    "    10=>\"X\",\n",
    "    40=>\"XL\",\n",
    "    50=>\"L\",\n",
    "    90=>\"XC\",\n",
    "    100=>\"C\",\n",
    "    400=>\"CD\",\n",
    "    500=>\"D\",\n",
    "    900=>\"CM\",\n",
    "    1000=>\"M\"\n",
    "  }\n",
    "  \n",
    "  roman = \"\"\n",
    "\n",
    "  while integer > 0\n",
    "    if @@values[integer]\n",
    "      roman += @@values[integer]\n",
    "      return roman\n",
    "    end\n",
    "\n",
    "    roman += @@values[next_lower_key(integer)] # increment the roman numeral string here\n",
    "    integer -= next_lower_key(integer) # decrement the arabic integer here\n",
    "  end\n",
    "end\n",
    "\n",
    "\n",
    "roman_numerals( 22 )"
   ]
  },
  {
   "cell_type": "markdown",
   "id": "ec3dacfa",
   "metadata": {},
   "source": [
    "# Execute"
   ]
  },
  {
   "cell_type": "code",
   "execution_count": null,
   "id": "1f3b6318",
   "metadata": {},
   "outputs": [],
   "source": []
  },
  {
   "cell_type": "code",
   "execution_count": 22,
   "id": "3675a14d",
   "metadata": {},
   "outputs": [
    {
     "data": {
      "text/plain": [
       "[\"A--headline--subheading\", \"A-wrong--subheadng\", \"A-wrong-subheading\", \"Z--this-is-it\"]"
      ]
     },
     "execution_count": 22,
     "metadata": {},
     "output_type": "execute_result"
    }
   ],
   "source": [
    "tests = [\n",
    "    'A--headline--subheading',\n",
    "    'A-wrong--subheadng',\n",
    "    'A-wrong-subheading',\n",
    "    'Z--this-is-it'\n",
    "]"
   ]
  },
  {
   "cell_type": "code",
   "execution_count": 37,
   "id": "cdbac004",
   "metadata": {},
   "outputs": [
    {
     "name": "stdout",
     "output_type": "stream",
     "text": [
      "{:selectors=>true, :heading=>\"headline\", :subheading=>\"subheading\", :enumerator=>{:original=>\"A\", :char=>nil, :integer=>nil}}\n",
      "\n",
      "{:selectors=>true, :heading=>\"this-is-it\", :subheading=>nil, :enumerator=>{:original=>\"Z\", :char=>nil, :integer=>nil}}\n",
      "\n"
     ]
    },
    {
     "data": {
      "text/plain": [
       "0..3"
      ]
     },
     "execution_count": 37,
     "metadata": {},
     "output_type": "execute_result"
    }
   ],
   "source": [
    "alpha = ( 'A'.upto( 'Z' ) ).to_a\n",
    "\n",
    "for index in 0..tests.length-1\n",
    "  test = tests[ index ]\n",
    "  if test.index( '--' ) == 1\n",
    "    item = { \n",
    "      selectors: true,\n",
    "      heading: nil,\n",
    "      subheading: nil,\n",
    "      enumerator: {\n",
    "        original: nil,\n",
    "        char: nil,\n",
    "        integer: nil\n",
    "      } \n",
    "    \n",
    "    }\n",
    "    a = test.split( '--' )\n",
    "    item[:enumerator][:original] = a[ 0 ]\n",
    "    case a.length\n",
    "      when 2\n",
    "        item[:heading] = a[ 1 ]\n",
    "      when 3\n",
    "        item[:heading] = a[ 1 ]\n",
    "        item[:subheading] = a[ 2 ]\n",
    "    end\n",
    "    puts item\n",
    "    \n",
    "    if /\\A[-+]?[0-9]+\\z/.match( item[:enumerator][:original] ).to_a.length != 0\n",
    "      item[:enumerator][:integer] = item[:enumerator][:original].to_i\n",
    "    else\n",
    "      \n",
    "    end\n",
    "    \n",
    "    puts\n",
    "    \n",
    "    \n",
    "    \n",
    "  else\n",
    "    item = { selectors: false }\n",
    "  end\n",
    "end\n"
   ]
  },
  {
   "cell_type": "code",
   "execution_count": 26,
   "id": "5fcd5d33",
   "metadata": {},
   "outputs": [
    {
     "data": {
      "text/plain": [
       "25"
      ]
     },
     "execution_count": 26,
     "metadata": {},
     "output_type": "execute_result"
    }
   ],
   "source": [
    "alpha.index( r[ 3 ][ 0 ] )"
   ]
  },
  {
   "cell_type": "code",
   "execution_count": 32,
   "id": "908fa42c",
   "metadata": {},
   "outputs": [
    {
     "data": {
      "text/plain": [
       "2"
      ]
     },
     "execution_count": 32,
     "metadata": {},
     "output_type": "execute_result"
    }
   ],
   "source": [
    "tests[ 3 ].split('--').length"
   ]
  },
  {
   "cell_type": "code",
   "execution_count": 53,
   "id": "95fbd210",
   "metadata": {},
   "outputs": [
    {
     "data": {
      "text/plain": [
       "true"
      ]
     },
     "execution_count": 53,
     "metadata": {},
     "output_type": "execute_result"
    }
   ],
   "source": []
  },
  {
   "cell_type": "code",
   "execution_count": 41,
   "id": "bd36c00d",
   "metadata": {},
   "outputs": [
    {
     "ename": "NoMethodError",
     "evalue": "undefined method `is_integer?' for \"1\":String",
     "output_type": "error",
     "traceback": [
      "\u001b[31mNoMethodError\u001b[0m: undefined method `is_integer?' for \"1\":String",
      "(irb):in `<main>'"
     ]
    }
   ],
   "source": []
  },
  {
   "cell_type": "code",
   "execution_count": null,
   "id": "6427083e",
   "metadata": {},
   "outputs": [],
   "source": []
  }
 ],
 "metadata": {
  "kernelspec": {
   "display_name": "Ruby 3.0.0",
   "language": "ruby",
   "name": "ruby"
  },
  "language_info": {
   "file_extension": ".rb",
   "mimetype": "application/x-ruby",
   "name": "ruby",
   "version": "3.0.0"
  }
 },
 "nbformat": 4,
 "nbformat_minor": 5
}
