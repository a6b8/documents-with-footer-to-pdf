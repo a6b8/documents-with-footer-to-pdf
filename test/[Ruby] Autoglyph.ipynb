{
 "cells": [
  {
   "cell_type": "markdown",
   "id": "63c4d6ea",
   "metadata": {},
   "source": [
    "# Functions"
   ]
  },
  {
   "cell_type": "markdown",
   "id": "80b2c611",
   "metadata": {},
   "source": [
    "## obj_prepare_path"
   ]
  },
  {
   "cell_type": "code",
   "execution_count": 1,
   "id": "34efa269",
   "metadata": {},
   "outputs": [
    {
     "data": {
      "text/plain": [
       ":obj_prepare_path"
      ]
     },
     "execution_count": 1,
     "metadata": {},
     "output_type": "execute_result"
    }
   ],
   "source": [
    "def obj_prepare_path( obj, salt, status )\n",
    "  def helper_parse_path( str )\n",
    "    if str[ str.length - 1, 1 ] != '/'\n",
    "      str = str + '/'\n",
    "    end\n",
    "    return str\n",
    "  end\n",
    "\n",
    "  def draw_obj_line_edge( l, offset )\n",
    "      str = ''\n",
    "      for i in 1..( ( l - 1 ) * offset )\n",
    "        str += ' '\n",
    "      end\n",
    "      if l > 1\n",
    "        str += \"┗\"\n",
    "        str += \"━\"\n",
    "        str += \" \"\n",
    "      else\n",
    "        str += '    '\n",
    "      end\n",
    "      return str\n",
    "  end\n",
    "  \n",
    "  def draw_obj_path_local( str, l, offset )\n",
    "    result = ''\n",
    "    for i in 0..( ( l - 1 ) * offset )\n",
    "      result += ' '\n",
    "    end\n",
    "    result += ''\n",
    "    result += str\n",
    "    return result\n",
    "  end\n",
    "\n",
    "  def helper_obj_path( name, salt, k, f=nil )\n",
    "    str = ''\n",
    "    str += draw_obj_line_edge( name[ 1, name.length ].to_i, 4 )\n",
    "    str += 'hash[:path]'\n",
    "    if k.length == 0\n",
    "\n",
    "    else\n",
    "      for i in 0..k.length-1\n",
    "        str += '[:children]'\n",
    "        str += '[:'\n",
    "        str += k[ i ].to_s\n",
    "        str += ']'      \n",
    "      end\n",
    "    end\n",
    "\n",
    "    if !f.nil?\n",
    "      str += '[:files][:'\n",
    "      str += f.to_s\n",
    "      str += '][:full]'    \n",
    "    else\n",
    "      str += '[:full]'\n",
    "    end\n",
    "    return str\n",
    "  end\n",
    "  \n",
    "  def helper_insert_salt( salt, str )\n",
    "    if salt[ 0, 1 ] == ''\n",
    "      \n",
    "    else\n",
    "      if salt[ 0, 1 ] == '-'\n",
    "      else\n",
    "        salt = '-' + salt      \n",
    "      end\n",
    "    end\n",
    "\n",
    "    str = str.gsub( \"{{SALT}}\", salt )\n",
    "    return str\n",
    "  end\n",
    "\n",
    "  def helper_parse_path( str )\n",
    "    if str[ str.length - 1, 1 ] != '/'\n",
    "      str = str + '/'\n",
    "    end\n",
    "    return str\n",
    "  end\n",
    "\n",
    "  def draw_obj_line_edge( l, offset )\n",
    "      str = ''\n",
    "      for i in 1..( ( l - 1 ) * offset )\n",
    "        str += ' '\n",
    "      end\n",
    "      if l > 1\n",
    "        str += \"┗\"\n",
    "        str += \"━\"\n",
    "        str += \" \"\n",
    "      else\n",
    "        str += '    '\n",
    "      end\n",
    "      return str\n",
    "  end\n",
    "  \n",
    "  def draw_obj_path_local( str, l, offset )\n",
    "    result = ''\n",
    "    for i in 0..( ( l - 1 ) * offset )\n",
    "      result += ' '\n",
    "    end\n",
    "    result = result[ 1, result.length ]\n",
    "    \n",
    "    if str.index('.') != nil\n",
    "      result += 'File: '\n",
    "    else\n",
    "      result += 'Folder: '\n",
    "    end\n",
    "    result += str\n",
    "    return result\n",
    "  end\n",
    "\n",
    "  def helper_obj_path( name, salt, k, f=nil )\n",
    "    str = ''\n",
    "    str += draw_obj_line_edge( name[ 1, name.length ].to_i, 4 )\n",
    "    str += ''\n",
    "    str += 'hash[:path]'\n",
    "    if k.length == 0\n",
    "\n",
    "    else\n",
    "      for i in 0..k.length-1\n",
    "        str += '[:children]'\n",
    "        str += '[:'\n",
    "        str += k[ i ].to_s\n",
    "        str += ']'      \n",
    "      end\n",
    "    end\n",
    "\n",
    "    if !f.nil?\n",
    "      str += '[:files][:'\n",
    "      str += f.to_s\n",
    "      str += '][:full]'    \n",
    "    else\n",
    "      str += '[:full]'\n",
    "    end\n",
    "    return str\n",
    "  end\n",
    "  \n",
    "  def helper_insert_salt( salt, str )\n",
    "    if salt[ 0, 1 ] == ''\n",
    "      \n",
    "    else\n",
    "      if salt[ 0, 1 ] == '-'\n",
    "      else\n",
    "        salt = '-' + salt      \n",
    "      end\n",
    "    end\n",
    "\n",
    "    str = str.gsub( \"{{SALT}}\", salt )\n",
    "    return str\n",
    "  end\n",
    "\n",
    "  mode = {\n",
    "    :general => nil,\n",
    "    :hash => nil,\n",
    "    :path => nil\n",
    "  }\n",
    "    \n",
    "  case status\n",
    "    when 0\n",
    "      mode[:general] = false\n",
    "      mode[:hash] = false\n",
    "      mode[:path] = false\n",
    "    when 1\n",
    "      mode[:general] = true\n",
    "      mode[:hash] = true\n",
    "      mode[:path] = false\n",
    "    when 2\n",
    "      mode[:general] = true\n",
    "      mode[:hash] = false\n",
    "      mode[:path] = true\n",
    "    when 3\n",
    "      mode[:general] = true\n",
    "      mode[:hash] = true\n",
    "      mode[:path] = true\n",
    "  end\n",
    "  \n",
    "  \n",
    "  mode[:general] ? puts( 'TREE OVERVIEW' ) : ''\n",
    "  \n",
    "  obj[:full] = ''\n",
    "  obj[:full] += obj[:root]\n",
    "  obj[:full] += helper_parse_path( helper_insert_salt( salt, obj[:name] ) )\n",
    "  \n",
    "  mode[:hash] ? puts( helper_obj_path( 'l1', salt, [ ] ) ) : ''\n",
    "  mode[:path] ? puts( draw_obj_path_local( obj[:full], 2, 4 ) ) : ''\n",
    "\n",
    "  obj[:children].keys.each { | l2 | \n",
    "      obj[:children][ l2 ][:full] = ''\n",
    "      obj[:children][ l2 ][:full] += obj[:full]\n",
    "      obj[:children][ l2 ][:full] += helper_parse_path( helper_insert_salt( salt, obj[:children][ l2 ][:name] ) )\n",
    "      mode[:hash] ? puts( helper_obj_path( 'l2', salt, [ l2 ] ) ) : ''\n",
    "      mode[:path] ? puts( draw_obj_path_local( obj[:children][ l2 ][:full], 3, 4 ) ) : ''\n",
    "      FileUtils.mkdir_p obj[:children][ l2 ][:full]\n",
    "\n",
    "      if !obj[:children][ l2 ][:files].nil?\n",
    "        obj[:children][ l2 ][:files].keys.each { | f1 | \n",
    "          obj[:children][ l2 ][:files][ f1 ][:full] = '' \n",
    "          obj[:children][ l2 ][:files][ f1 ][:full] += obj[:children][ l2 ][:full] \n",
    "          obj[:children][ l2 ][:files][ f1 ][:full] += helper_insert_salt( salt, obj[:children][ l2 ][:files][ f1 ][:name] )\n",
    "          mode[:hash] ? puts( helper_obj_path( 'l2', salt, [ l2 ], f1 ) ) : ''\n",
    "          mode[:path] ? puts( draw_obj_path_local( obj[:children][ l2 ][:files][ f1 ][:full], 3, 4 ) ) : ''\n",
    "        }\n",
    "      end\n",
    "\n",
    "      if !obj[:children][ l2 ][:children].nil?\n",
    "        obj[:children][ l2 ][:children].keys.each { | l3 | \n",
    "          obj[:children][ l2 ][:children][ l3 ][:full] = ''\n",
    "          obj[:children][ l2 ][:children][ l3 ][:full] += obj[:children][ l2 ][:full]\n",
    "          obj[:children][ l2 ][:children][ l3 ][:full] += helper_parse_path( helper_insert_salt( salt, obj[:children][ l2 ][:children][ l3 ][:name] ) )\n",
    "\n",
    "          FileUtils.mkdir_p obj[:children][ l2 ][:children][ l3 ][:full]\n",
    "          mode[:hash] ? puts( helper_obj_path( 'l3', salt, [ l2, l3 ] ) ) : ''\n",
    "          mode[:path] ? puts( draw_obj_path_local( obj[:children][ l2 ][:children][ l3 ][:full], 4, 4 ) ) : ''\n",
    "\n",
    "          if !obj[:children][ l2 ][:children][ l3 ][:files].nil?\n",
    "            obj[:children][ l2 ][:children][ l3 ][:files].keys.each { | f2 | \n",
    "              obj[:children][ l2 ][:children][ l3 ][:files][ f2 ][:full] = ''\n",
    "              obj[:children][ l2 ][:children][ l3 ][:files][ f2 ][:full] += obj[:children][ l2 ][:children][ l3 ][:full]\n",
    "              obj[:children][ l2 ][:children][ l3 ][:files][ f2 ][:full] += helper_insert_salt( salt, obj[:children][ l2 ][:children][ l3 ][:files][ f2 ][:name] )\n",
    "              mode[:hash] ? puts( helper_obj_path( 'l3', salt, [ l2, l3 ], f2 ) ) : ''\n",
    "              mode[:path] ? puts( draw_obj_path_local( obj[:children][ l2 ][:children][ l3 ][:files][ f2 ][:full], 4, 4 ) ) : ''\n",
    "            }\n",
    "          end\n",
    "        }\n",
    "      end\n",
    "  }\n",
    "  return obj\n",
    "end"
   ]
  },
  {
   "cell_type": "markdown",
   "id": "f0c6c772",
   "metadata": {},
   "source": [
    "## download_items"
   ]
  },
  {
   "cell_type": "code",
   "execution_count": 2,
   "id": "22058142",
   "metadata": {},
   "outputs": [
    {
     "data": {
      "text/plain": [
       ":download_items"
      ]
     },
     "execution_count": 2,
     "metadata": {},
     "output_type": "execute_result"
    }
   ],
   "source": [
    "def download_items( obj, key, suffix, delay )\n",
    "  def download_item( index, key, obj )\n",
    "    url = ''\n",
    "    url += obj[:meta][:larvalabs][ key ]\n",
    "    url += '?index='\n",
    "    url += index.to_s\n",
    "\n",
    "    uri = URI( url )\n",
    "    response = Net::HTTP.get( uri )\n",
    "    if key == :code\n",
    "      doc = Nokogiri::HTML( response ) \n",
    "      str = doc.text.strip!\n",
    "    else\n",
    "      str = response\n",
    "    end\n",
    "    return str\n",
    "  end\n",
    "  \n",
    "  for index in 1..512\n",
    "    index%10 == 0 ? print('.') : ''\n",
    "    sleep( delay )\n",
    "    item = download_item( index, key, obj )\n",
    "\n",
    "    path = ''\n",
    "    path += obj[:path][:children][:data][:children][ key ][:full]\n",
    "    path += index.to_s\n",
    "    path += '.' + suffix\n",
    "    \n",
    "    File.open( path, \"w\" ) { | f | f.write( item ) } \n",
    "  end\n",
    "  return true\n",
    "end"
   ]
  },
  {
   "cell_type": "markdown",
   "id": "887f9897",
   "metadata": {},
   "source": [
    "## ascii_to_svg"
   ]
  },
  {
   "cell_type": "code",
   "execution_count": 3,
   "id": "96bcd0fd",
   "metadata": {},
   "outputs": [
    {
     "data": {
      "text/plain": [
       ":ascii_to_svg"
      ]
     },
     "execution_count": 3,
     "metadata": {},
     "output_type": "execute_result"
    }
   ],
   "source": [
    "def ascii_to_svg()\n",
    "  def params_prepare( ascii, _length ) \n",
    "      params = {\n",
    "        canvas: {\n",
    "            size:{\n",
    "              x: 880,\n",
    "              y: nil,\n",
    "            },\n",
    "            margin: {\n",
    "                left: 120,\n",
    "                top: 120,\n",
    "                right: 120,\n",
    "                bottom: 120\n",
    "            }\n",
    "        },\n",
    "        grid: {\n",
    "            x: {\n",
    "                offset: nil,\n",
    "                length: nil\n",
    "            },\n",
    "            y: {\n",
    "                offset: nil,\n",
    "                length: nil\n",
    "            },\n",
    "            size: {\n",
    "                x: nil,\n",
    "                y: nil\n",
    "            }\n",
    "        },\n",
    "        cell: {\n",
    "            x: {\n",
    "              offset: 0\n",
    "            },\n",
    "            y: {\n",
    "              offset: 0\n",
    "            },\n",
    "            size: {\n",
    "              x: nil,\n",
    "              y: nil\n",
    "            }\n",
    "        },\n",
    "        instructions: {\n",
    "          \"\\\\\": [ \"\\\\\" ],\n",
    "          \"/\": [ \"/\" ],\n",
    "          \"X\": [ \"X\", \"x\" ],\n",
    "          \"-\": [ \"-\" ],\n",
    "          \"|\": [ \"|\", \"1\" ],\n",
    "          \"O\": [ \"O\", \"o\", \"0\" ],\n",
    "          \"+\": [ \"+\" ],\n",
    "          \"#\": [ \"#\" ]\n",
    "        },\n",
    "        style: {\n",
    "          line: {\n",
    "            stroke: {\n",
    "              width: 2.0,\n",
    "              color: 'rgb(0,0,0)',\n",
    "              opacity: 1.0,\n",
    "              linecap: 'square' # butt / round / square\n",
    "            }\n",
    "          },\n",
    "          ellipse: {\n",
    "              stroke: {\n",
    "                width: 2.0,\n",
    "                color: 'rgb(0,0,0)',\n",
    "                opacity: 1.0,\n",
    "                linecap: 'square'\n",
    "              },\n",
    "              fill: 'none'\n",
    "          },\n",
    "          rectangle: {\n",
    "            fill: {\n",
    "              color: 'rgb(0,0,0)',\n",
    "              opacity: 1.0\n",
    "            }\n",
    "          },\n",
    "          canvas: {\n",
    "            fill: {\n",
    "              color: 'rgb(255,255,255)',\n",
    "              opacity: 1.0\n",
    "            }          \n",
    "          }\n",
    "        }\n",
    "    }\n",
    "    \n",
    "    params[:grid][:x][:length] = _length\n",
    "    \n",
    "    lines = ascii.chars.each_slice( params[:grid][:x][:length] ).map( &:join )\n",
    "    params[:grid][:y][:length] = lines.length\n",
    "\n",
    "    params[:grid][:x][:offset] = params[:canvas][:margin][:left] + params[:cell][:x][:offset] / 2\n",
    "    params[:grid][:y][:offset] = params[:canvas][:margin][:top] + params[:cell][:x][:offset] / 2\n",
    "\n",
    "    tmp = [ :left, :right ].map{ | k | params[:canvas][:margin][ k ] }.sum\n",
    "    params[:grid][:size][:x] = params[:canvas][:size][:x] - tmp\n",
    "\n",
    "    tmp = ( params[:cell][:x][:offset] * params[:grid][:x][:length] )\n",
    "    params[:cell][:size][:x] = ( params[:grid][:size][:x] - tmp ) / params[:grid][:x][:length]\n",
    "    \n",
    "    tmp = [ :top, :bottom ].map{ | k | params[:canvas][:margin][ k ] }.sum\n",
    "    params[:canvas][:size][:y] = ( params[:cell][:size][:x] * params[:grid][:y][:length] ) + tmp\n",
    "    params[:grid][:size][:y] = params[:canvas][:size][:y] - tmp\n",
    "    \n",
    "    tmp = ( params[:cell][:y][:offset] * params[:grid][:y][:length] )\n",
    "    params[:cell][:size][:y] = ( params[:grid][:size][:y] - tmp ) / params[:grid][:y][:length]\n",
    "    \n",
    "    return [ params, lines ]\n",
    "  end\n",
    "\n",
    "  def cell_instructions( char, params )\n",
    "    selector = nil\n",
    "    params[:instructions].keys.each do | key |\n",
    "       params[:instructions][ key ].include?( char ) ? selector = key : ''\n",
    "    end\n",
    "\n",
    "    results = []\n",
    "    case( selector )\n",
    "      when :\"\\\\\"\n",
    "        results.push( [ 'line', :top__left, :bottom__right ] )\n",
    "      when :\"/\"\n",
    "        results.push( [ 'line', :top__right, :bottom__left ] )\n",
    "      when :\"X\"\n",
    "        results.push( [ 'line', :top__right, :bottom__left ] )\n",
    "        results.push( [ 'line', :top__left, :bottom__right ] )\n",
    "      when :\"-\"\n",
    "        results.push( [ 'line', :center__left, :center__right ] )\n",
    "      when :\"|\"\n",
    "        results.push( [ 'line', :top__center, :bottom__center ] )\n",
    "      when :\"+\"\n",
    "        results.push( [ 'line', :center__left, :center__right ] )\n",
    "        results.push( [ 'line', :top__center, :bottom__center ] )\n",
    "      when :\"O\"\n",
    "        results.push( [ 'ellipse', :center__center, nil ] )\n",
    "      when :\"#\"\n",
    "        results.push( [ 'rectangle', :top__left, nil ] )\n",
    "    end\n",
    "    return results\n",
    "  end\n",
    "\n",
    "\n",
    "  def cell_position( x, y, params )\n",
    "    pos = {\n",
    "      top:{\n",
    "        left: nil,\n",
    "        center: nil,\n",
    "        right: nil\n",
    "      },\n",
    "      center: {\n",
    "        left: nil,\n",
    "        center: nil,\n",
    "        right: nil,\n",
    "      },\n",
    "      bottom: {\n",
    "        left: nil,\n",
    "        center: nil,\n",
    "        right: nil\n",
    "      }\n",
    "    }\n",
    "\n",
    "\n",
    "    x = ( x * ( params[:cell][:size][:x] + params[:cell][:x][:offset] ) ) + params[:grid][:x][:offset]\n",
    "    y = ( y * ( params[:cell][:size][:y] + params[:cell][:y][:offset] ) ) + params[:grid][:y][:offset]\n",
    "\n",
    "    half_x = params[:cell][:size][:x] / 2\n",
    "    half_y = params[:cell][:size][:y] / 2\n",
    "\n",
    "    pos[:top][:left] = [ x, y ]\n",
    "    pos[:top][:center] = [ x + half_x, y ]\n",
    "    pos[:top][:right] = [ x + params[:cell][:size][:x], y ]\n",
    "\n",
    "    pos[:center][:left] = [ x, y + half_y ]\n",
    "    pos[:center][:center] = [ x + half_x, y + half_y ]\n",
    "    pos[:center][:right] = [ x + params[:cell][:size][:x], y + half_y ]\n",
    "\n",
    "    pos[:bottom][:left] = [ x, y + params[:cell][:size][:y] ]\n",
    "    pos[:bottom][:center] = [ x + half_y, y + params[:cell][:size][:y] ]\n",
    "    pos[:bottom][:right] = [ x + params[:cell][:size][:x], y + params[:cell][:size][:y] ]\n",
    "\n",
    "    return pos\n",
    "  end\n",
    "\n",
    "\n",
    "  def cell_svg( instructions, position, params )\n",
    "    str = ''\n",
    "    instructions.each do | instruction |\n",
    "      case instruction[ 0 ]\n",
    "        when 'line'\n",
    "          keys = instruction\n",
    "            .drop( 1 )\n",
    "            .map { | c | \n",
    "                keys = c\n",
    "                  .to_s.split( '__' )\n",
    "                  .map { | c | c.to_sym }\n",
    "\n",
    "            }\n",
    "\n",
    "          x1, y1 = position[ keys[ 0 ][ 0 ] ][ keys[ 0 ][ 1 ] ]\n",
    "          x2, y2 = position[ keys[ 1 ][ 0 ] ][ keys[ 1 ][ 1 ] ]\n",
    "\n",
    "          s_width = params[:style][:line][:stroke][:width].to_s\n",
    "          s_color = params[:style][:line][:stroke][:color].to_s\n",
    "          s_opacity = params[:style][:line][:stroke][:opacity].to_s\n",
    "          s_linecap = params[:style][:line][:stroke][:linecap].to_s\n",
    "\n",
    "          str += \"<line x1=\\\"#{x1}\\\" y1=\\\"#{y1}\\\" x2=\\\"#{x2}\\\" y2=\\\"#{y2}\\\" style=\\\"stroke-width: #{s_width};stroke: #{s_color};stroke-opacity: #{s_opacity};stroke-linecap: #{s_linecap};\\\" transform=\\\"matrix(1,0,0,1,0,0)\\\" />\"\n",
    "\n",
    "        when 'ellipse'\n",
    "          keys = instruction\n",
    "            .drop( 1 )\n",
    "            .map { | c | \n",
    "                keys = c\n",
    "                  .to_s.split( '__' )\n",
    "                  .map { | c | c }\n",
    "            }\n",
    "\n",
    "          cx, cy = position[ keys[ 0 ][ 0 ].to_sym ][ keys[ 0 ][ 1 ].to_sym ]\n",
    "          rx = params[:cell][:size][:x] / 2\n",
    "          ry = params[:cell][:size][:y] / 2\n",
    "\n",
    "          s_width = params[:style][:ellipse][:stroke][:width]\n",
    "          s_color = params[:style][:ellipse][:stroke][:color]\n",
    "          s_opacity = params[:style][:ellipse][:stroke][:opacity]\n",
    "          s_linecap = params[:style][:ellipse][:stroke][:linecap]\n",
    "          e_fill = params[:style][:ellipse][:fill]\n",
    "          str += \"<ellipse cx=\\\"#{cx}\\\" cy=\\\"#{cy}\\\" rx=\\\"#{rx}\\\" ry=\\\"#{ry}\\\" style=\\\"stroke-width: #{s_width};stroke: #{s_color};stroke-opacity: #{s_opacity};stroke-linecap: #{s_linecap};; fill: #{e_fill}\\\" transform=\\\"matrix(1,0,0,1,0,0)\\\" />\"\n",
    "\n",
    "        when 'rectangle'\n",
    "          keys = instruction\n",
    "            .drop( 1 )\n",
    "            .map { | c | \n",
    "                keys = c\n",
    "                  .to_s.split( '__' )\n",
    "                  .map { | c | c }\n",
    "          }\n",
    "\n",
    "          x, y = position[ keys[ 0 ][ 0 ].to_sym ][ keys[ 0 ][ 1 ].to_sym ]\n",
    "          r_fill = params[:style][:rectangle][:fill][:color]\n",
    "          r_opacity = params[:style][:rectangle][:fill][:opacity]\n",
    "\n",
    "          width = params[:cell][:size][:x]\n",
    "          height = params[:cell][:size][:y]\n",
    "\n",
    "          str += \"<rect x=\\\"#{x}\\\" y=\\\"#{y}\\\" width=\\\"#{width}\\\" height=\\\"#{height}\\\" style=\\\"fill: #{r_fill}; fill-opacity: #{r_opacity}\\\" transform=\\\"matrix(1,0,0,1,0,0)\\\" />\"\n",
    "      end\n",
    "    end\n",
    "    return str\n",
    "  end\n",
    "\n",
    "\n",
    "  def generate( lines, params )\n",
    "    svg = ''\n",
    "    width = params[:canvas][:size][:x]\n",
    "    height = params[:canvas][:size][:y]\n",
    "    fill = params[:style][:canvas][:fill][:color]\n",
    "    fill_opacity = params[:style][:canvas][:fill][:opacity].to_s\n",
    "\n",
    "    svg += \"<svg xmlns=\\\"http://www.w3.org/2000/svg\\\" xmlns:xlink=\\\"http://www.w3.org/1999/xlink\\\" xmlns:jfreesvg=\\\"http://www.jfree.org/jfreesvg/svg\\\" width=\\\"#{width}\\\" height=\\\"#{height}\\\" text-rendering=\\\"auto\\\" shape-rendering=\\\"auto\\\">\n",
    "  <defs></defs>\"\n",
    "    svg += \"<rect x=\\\"0\\\" y=\\\"0\\\" width=\\\"#{width}\\\" height=\\\"#{height}\\\" style=\\\"fill: #{fill}; fill-opacity: #{fill_opacity}\\\" transform=\\\"matrix(1,0,0,1,0,0)\\\" />\"\n",
    "    svg += lines.clone\n",
    "    svg += \"</svg>\"\n",
    "    return svg\n",
    "  end\n",
    "\n",
    "  def from_string( ascii, _length )\n",
    "    params, lines = params_prepare( ascii, _length )\n",
    "    symbols = ''\n",
    "    for y in 0..params[:grid][:y][:length] - 1\n",
    "      line = lines[ y ]\n",
    "      chars = line.split( '' )\n",
    "      for x in 0..params[:grid][:x][:length] - 1\n",
    "        char = line[ x ]\n",
    "        instructions = cell_instructions( char, params )\n",
    "        position = cell_position( x, y, params )\n",
    "        symbols += cell_svg( instructions, position, params )      \n",
    "      end\n",
    "    end\n",
    "\n",
    "    result = generate( symbols, params )\n",
    "  end\n",
    "end"
   ]
  },
  {
   "cell_type": "markdown",
   "id": "3a7ec0d9",
   "metadata": {},
   "source": [
    "## check_uniqness"
   ]
  },
  {
   "cell_type": "code",
   "execution_count": 4,
   "id": "fca3852a",
   "metadata": {},
   "outputs": [
    {
     "data": {
      "text/plain": [
       ":check_uniqness"
      ]
     },
     "execution_count": 4,
     "metadata": {},
     "output_type": "execute_result"
    }
   ],
   "source": [
    "def check_uniqness( o, c, obj )\n",
    "  original = ''\n",
    "  original += obj[:path][:children][:data][:children][:svg][:full]\n",
    "  original += o\n",
    "\n",
    "  copy = ''\n",
    "  copy += c\n",
    "  \n",
    "  files = []\n",
    "  [ original, copy ].each do | path |\n",
    "    file = File.read( path )\n",
    "    file.gsub!(\"\\n\", '')\n",
    "    file.gsub!(' ', '')\n",
    "    \n",
    "    files.push( file ) \n",
    "  end\n",
    "  \n",
    "  return files[ 0 ].eql? files[ 1 ]\n",
    "end"
   ]
  },
  {
   "cell_type": "markdown",
   "id": "7345e017",
   "metadata": {},
   "source": [
    "## get_allow_list"
   ]
  },
  {
   "cell_type": "code",
   "execution_count": 5,
   "id": "6641e9ab",
   "metadata": {},
   "outputs": [
    {
     "data": {
      "text/plain": [
       ":get_allow_list"
      ]
     },
     "execution_count": 5,
     "metadata": {},
     "output_type": "execute_result"
    }
   ],
   "source": [
    "def get_allow_list( params )\n",
    "  available = []\n",
    "  generated = []\n",
    "\n",
    "  params.keys.each do | lvl1 |\n",
    "    if params[ lvl1 ].class.to_s.eql? 'Hash'\n",
    "      params[ lvl1 ].keys.each do | lvl2 |\n",
    "        if params[ lvl1 ][ lvl2 ].class.to_s.eql? 'Hash'\n",
    "          params[ lvl1 ][ lvl2 ].keys.each do | lvl3 |\n",
    "            if params[ lvl1 ][ lvl2 ][ lvl3 ].class.to_s.eql? 'Hash'\n",
    "              params[ lvl1 ][ lvl2 ][ lvl3 ].keys.each do | lvl4 |\n",
    "                if params[ lvl1 ][ lvl2 ][ lvl3 ][ lvl4 ].class.to_s.eql? 'Hash'\n",
    "                  puts 'HERE'\n",
    "                else\n",
    "                  str = ( lvl1.to_s + '__' + lvl2.to_s + '__' + lvl3.to_s + '__' + lvl4.to_s ).to_sym\n",
    "                  if !params[ lvl1 ][ lvl2 ][ lvl3 ][ lvl4 ].nil?\n",
    "                    available.push( str )\n",
    "                  else\n",
    "                    generated.push( str )\n",
    "                  end\n",
    "                end\n",
    "              end\n",
    "            else\n",
    "              str = ( lvl1.to_s + '__' + lvl2.to_s + '__' + lvl3.to_s ).to_sym\n",
    "              if !params[ lvl1 ][ lvl2 ][ lvl3 ].nil?\n",
    "                available.push( str )\n",
    "              else\n",
    "                generated.push( str )\n",
    "              end\n",
    "            end\n",
    "          end\n",
    "        else\n",
    "          str = ( lvl1.to_s + '__' + lvl2.to_s ).to_sym\n",
    "          if !params[ lvl1 ][ lvl2  ].nil? \n",
    "            available.push( str )\n",
    "          else\n",
    "            generated.push( str )\n",
    "          end\n",
    "        end\n",
    "      end\n",
    "    else\n",
    "      str = lvl1\n",
    "      if !params[ lvl1 ].nil?\n",
    "        available.push( str )\n",
    "      else\n",
    "        generated.push( str )\n",
    "      end\n",
    "    end\n",
    "\n",
    "  end\n",
    "  return [ available, generated ]\n",
    "end"
   ]
  },
  {
   "cell_type": "markdown",
   "id": "d202a282",
   "metadata": {},
   "source": [
    "## markdown_options_tables"
   ]
  },
  {
   "cell_type": "code",
   "execution_count": 7,
   "id": "00066b6c",
   "metadata": {},
   "outputs": [
    {
     "data": {
      "text/plain": [
       ":markdown_options_tables"
      ]
     },
     "execution_count": 7,
     "metadata": {},
     "output_type": "execute_result"
    }
   ],
   "source": [
    "def markdown_options_tables( lists, params )\n",
    "  def pick_values( pick, params )\n",
    "    keys = pick\n",
    "      .to_s\n",
    "      .split( '__' )\n",
    "      .map{ | a | a.to_sym }\n",
    "    result = nil\n",
    "    case( keys.length)\n",
    "      when 1\n",
    "        result = params[ keys[ 0 ] ]\n",
    "      when 2\n",
    "        result = params[ keys[ 0 ] ][ keys[ 1 ] ]\n",
    "      when 3\n",
    "        result = params[ keys[ 0 ] ][ keys[ 1 ] ][ keys[ 2 ] ]\n",
    "      when 4\n",
    "        result = params[ keys[ 0 ] ][ keys[ 1 ] ][ keys[ 2 ] ][ keys[ 3 ] ]\n",
    "    end\n",
    "\n",
    "    return result\n",
    "  end\n",
    "\n",
    "\n",
    "  sort = {}\n",
    "  lists[ 0 ].each do | key |\n",
    "    category = key.to_s.split( '__' )[ 0 ].to_sym\n",
    "    !sort.key?( category ) ? sort[ category ] = [] : ''\n",
    "    sort[ category ].push( key )\n",
    "  end\n",
    "\n",
    "\n",
    "  tables = {}\n",
    "  alphabet = 'A'.upto( 'Z' ).to_a\n",
    "  sort.keys.each.with_index do | category, index |\n",
    "    char = alphabet[ index ]\n",
    "    str = ''\n",
    "    str += \"| Nr | Name | Key | Default | Type | Description |\\n\" \n",
    "    str += \"| :-- | :-- | :-- | :-- | :-- | :-- |\\n\"\n",
    "    sort[ category ].each.with_index do | key, index |\n",
    "      nr = \"#{char}.#{index + 1}.\"\n",
    "      name = key.to_s.split('__').drop( 1 ).map { | a | a[ 0, 1 ].upcase + a[ 1, a.length ]}.join( \" \" )\n",
    "      default = pick_values( key, params )\n",
    "      type = default.class.to_s\n",
    "      type.eql?('String') ? default = \"\\\"#{default}\\\"\" : ''\n",
    "      default = \"`#{default}`\"\n",
    "      str += \"| #{nr} | #{name} |:#{key} | #{default} | #{type} | |\\n\"\n",
    "    end\n",
    "    tables[ category ] = str\n",
    "  end\n",
    "\n",
    "\n",
    "  str = \"## Options\\n\"\n",
    "  tables.keys.each.with_index do | key |\n",
    "    name = key.to_s\n",
    "    name = name[ 0, 1 ].upcase + name[ 1, name.length ] \n",
    "    str += \"### \" + name + \"\\n\"\n",
    "    str += tables[ key ]\n",
    "    str += \"\\n\\n\"\n",
    "  end\n",
    "  str = str[ 0, str.rindex(\"\\n\\n\\n\")]\n",
    "  \n",
    "  return str\n",
    "end"
   ]
  },
  {
   "cell_type": "markdown",
   "id": "ed75e9e9",
   "metadata": {},
   "source": [
    "## google_fonts_download"
   ]
  },
  {
   "cell_type": "code",
   "execution_count": 8,
   "id": "4609607d",
   "metadata": {},
   "outputs": [
    {
     "data": {
      "text/plain": [
       ":google_fonts_download"
      ]
     },
     "execution_count": 8,
     "metadata": {},
     "output_type": "execute_result"
    }
   ],
   "source": [
    "def google_fonts_download( font, style, subset, file_name )\n",
    "  def self.str_difference( a, b )\n",
    "    a = a.to_s.downcase.split( '_' ).join( '' )\n",
    "    b = b.to_s.downcase.split( '_' ).join( '' )\n",
    "    longer = [ a.size, b.size ].max\n",
    "    same = a\n",
    "      .each_char\n",
    "      .zip( b.each_char )\n",
    "      .select { | a, b | a == b }\n",
    "      .size\n",
    "    ( longer - same ) / a.size.to_f\n",
    "  end\n",
    "  \n",
    "  def unzip_file( file, destination, file_name )\n",
    "    Zip::ZipFile.open( file ) do |zip_file|\n",
    "     zip_file.each do | f |\n",
    "       f_path=File.join( destination, file_name )  \n",
    "       FileUtils.mkdir_p( File.dirname( f_path ) )\n",
    "       zip_file.extract( f, f_path ) unless File.exist?( f_path )\n",
    "     end\n",
    "    end\n",
    "  end\n",
    "\n",
    "  \n",
    "  url = 'https://google-webfonts-helper.herokuapp.com/api/fonts'\n",
    "  uri = URI( url )\n",
    "  response = Net::HTTP.get( uri )\n",
    "  fonts_all = JSON.parse( response )\n",
    "\n",
    "  fonts_subset = fonts_all.select { | a | a[\"subsets\"].include? subset }\n",
    "\n",
    "  id = fonts_subset\n",
    "    .map { | a | { name: a[\"id\"], score: str_difference( font, a[\"id\"] ) } }\n",
    "    .min_by { | h | h[:score] }\n",
    "\n",
    "  font = fonts_subset\n",
    "    .find { | a | a[\"id\"].eql? id[:name] }\n",
    "\n",
    "  variant = font['variants']\n",
    "    .map { | a | { name: a, score: str_difference( style.to_s, a.to_s ) } }\n",
    "    .min_by { | h | h[:score] }\n",
    "\n",
    "  puts \"Font: #{font[\"id\"]} #{variant[:name]} (#{subset})\"\n",
    "  \n",
    "  url = ''\n",
    "  url += 'https://google-webfonts-helper.herokuapp.com'\n",
    "  url += \"/api/fonts/#{id[:name]}?download=zip&subsets=latin&formats=ttf&variants=#{variant[:name]}\"\n",
    "\n",
    "  puts url\n",
    "  uri = URI( url )\n",
    "  response = Net::HTTP.get( uri )\n",
    "\n",
    "  path_zip = '/Users/andreasbanholzer/Desktop/a/test.zip'\n",
    "  \n",
    "  File.open( path_zip, \"w\" ) { | f | f.write( response ) }\n",
    "  unzip_file( path_zip, File.dirname( path_zip ), file_name )\n",
    "  File.delete( path_zip )\n",
    "end"
   ]
  },
  {
   "cell_type": "markdown",
   "id": "a93fc3aa",
   "metadata": {},
   "source": [
    "# Execute"
   ]
  },
  {
   "cell_type": "code",
   "execution_count": 9,
   "id": "8cd6bbf6",
   "metadata": {},
   "outputs": [
    {
     "data": {
      "text/plain": [
       "true"
      ]
     },
     "execution_count": 9,
     "metadata": {},
     "output_type": "execute_result"
    }
   ],
   "source": [
    "require 'net/http'\n",
    "require 'active_support/core_ext/hash/indifferent_access'\n",
    "require 'uri'\n",
    "require 'nokogiri'"
   ]
  },
  {
   "cell_type": "code",
   "execution_count": 70,
   "id": "a68f2266",
   "metadata": {},
   "outputs": [
    {
     "name": "stdout",
     "output_type": "stream",
     "text": [
      "TREE OVERVIEW\n",
      "    hash[:path][:full]\n",
      "    ┗━ hash[:path][:children][:data][:full]\n",
      "        ┗━ hash[:path][:children][:data][:children][:code][:full]\n",
      "        ┗━ hash[:path][:children][:data][:children][:svg][:full]\n",
      "        ┗━ hash[:path][:children][:data][:children][:generate][:full]\n",
      "\n"
     ]
    }
   ],
   "source": [
    "hash = {\n",
    "  path: {\n",
    "    root: '.',\n",
    "    name: '/',\n",
    "    full: nil,\n",
    "    children: {\n",
    "      data: {\n",
    "        name: '0-data',\n",
    "        full: nil,\n",
    "        children: {\n",
    "          code: {\n",
    "            name: '0-code',\n",
    "            full: nil\n",
    "          },\n",
    "          svg: {\n",
    "            name: '1-svg',\n",
    "            full: nil\n",
    "          },\n",
    "          generate: {\n",
    "            name: '2-generate',\n",
    "            full: nil\n",
    "          }\n",
    "        }\n",
    "      }\n",
    "    } \n",
    "  },\n",
    "  meta: {\n",
    "    larvalabs: { \n",
    "      code: 'https://www.larvalabs.com/autoglyphs/rawglyph',\n",
    "      svg: 'https://www.larvalabs.com/autoglyphs/glyphimage'\n",
    "    }\n",
    "  }\n",
    "}\n",
    "\n",
    "salt = Time.now.getutc.to_i.to_s\n",
    "hash[:path] = obj_prepare_path( hash[:path], salt, 1 )\n",
    "puts"
   ]
  },
  {
   "cell_type": "markdown",
   "id": "4e78430b",
   "metadata": {},
   "source": [
    "## Download Code"
   ]
  },
  {
   "cell_type": "code",
   "execution_count": 44,
   "id": "2316365e",
   "metadata": {},
   "outputs": [
    {
     "name": "stdout",
     "output_type": "stream",
     "text": [
      "..................................................."
     ]
    },
    {
     "data": {
      "text/plain": [
       "true"
      ]
     },
     "execution_count": 44,
     "metadata": {},
     "output_type": "execute_result"
    }
   ],
   "source": [
    "download_items( hash, 5 )"
   ]
  },
  {
   "cell_type": "markdown",
   "id": "f4a58dd5",
   "metadata": {},
   "source": [
    "## Download SVG"
   ]
  },
  {
   "cell_type": "code",
   "execution_count": 28,
   "id": "e45a9e78",
   "metadata": {},
   "outputs": [
    {
     "name": "stdout",
     "output_type": "stream",
     "text": [
      "..................................................."
     ]
    },
    {
     "data": {
      "text/plain": [
       "true"
      ]
     },
     "execution_count": 28,
     "metadata": {},
     "output_type": "execute_result"
    }
   ],
   "source": [
    "download_items( hash, :svg, '.svg', 5 )"
   ]
  },
  {
   "cell_type": "markdown",
   "id": "d8d229c2",
   "metadata": {},
   "source": [
    "## Generate svg"
   ]
  },
  {
   "cell_type": "code",
   "execution_count": 12,
   "id": "465abef3",
   "metadata": {},
   "outputs": [
    {
     "data": {
      "text/plain": [
       "true"
      ]
     },
     "execution_count": 12,
     "metadata": {},
     "output_type": "execute_result"
    }
   ],
   "source": [
    "index = 512\n",
    "p = ''\n",
    "p += hash[:path][:children][:data][:children][:code][:full]\n",
    "p += '/'\n",
    "p += index.to_s\n",
    "p += '.txt'\n",
    "ascii = File.read( p ).gsub( \"\\n\", \"\" )\n",
    "svg = ascii_to_svg.from_string( ascii, 64 )\n",
    "\n",
    "path = 'test.svg'\n",
    "File.open( path, \"w\" ) { | f | f.write( svg ) }\n",
    "check_uniqness( index.to_s + '.svg', path, hash )\n",
    "\n",
    "#hash[:path][:children][:data][:children][:generate][:full]"
   ]
  },
  {
   "cell_type": "markdown",
   "id": "f5d6fd06",
   "metadata": {},
   "source": [
    "## Test Module"
   ]
  },
  {
   "cell_type": "code",
   "execution_count": 47,
   "id": "dc03b901",
   "metadata": {},
   "outputs": [
    {
     "name": "stdout",
     "output_type": "stream",
     "text": [
      "\n"
     ]
    }
   ],
   "source": [
    "require '/Users/andreasbanholzer/PROJEKTE/2021-06-11--nft/1/2-ruby/ascii_to_svg/lib/ascii_to_svg.rb'\n",
    "test = AsciiToSvg.from_string( ascii, 64 )\n",
    "puts"
   ]
  },
  {
   "cell_type": "markdown",
   "id": "c62965ad",
   "metadata": {},
   "source": [
    "## Generate Readme"
   ]
  },
  {
   "cell_type": "code",
   "execution_count": null,
   "id": "378e22d6",
   "metadata": {},
   "outputs": [],
   "source": [
    "require '/Users/andreasbanholzer/PROJEKTE/2021-05-27--github-profile/3/markdown_titles_to_svg/lib/markdown_titles_to_svg.rb'\n",
    "params = MarkdownTitlesToSvg.get_options\n",
    "lists = get_allow_list( params )\n",
    "t = markdown_options_tables( lists, params )\n",
    "t.split(\"\\n\").each { | tt | puts tt}\n",
    "#puts"
   ]
  },
  {
   "cell_type": "markdown",
   "id": "bd7fc8e6",
   "metadata": {},
   "source": [
    "## MarkdownHeadlinesToSVG"
   ]
  },
  {
   "cell_type": "code",
   "execution_count": 13,
   "id": "add414dd",
   "metadata": {},
   "outputs": [
    {
     "data": {
      "text/plain": [
       "[[:github__source, :font__text_align, :font__bold, :font__mode__h1, :font__mode__default, :font__google_fonts__h1__name, :font__google_fonts__h1__variant, :font__google_fonts__h1__subset, :font__google_fonts__default__name, :font__google_fonts__default__variant, :font__google_fonts__default__subset, :view__offset__height, :view__offset__widht, :style__h1__color__opacity, :style__h1__color__default, :style__h1__color__palette, :style__h1__stroke__color, :style__h1__stroke__width, :style__h1__stroke__opacity, :style__h1__stroke__linecap, :style__default__color__opacity, :style__default__color__default, :style__default__color__palette, :style__default__stroke__color, :style__default__stroke__width, :style__default__stroke__opacity, :style__default__stroke__linecap], [:github__profile, :font__local__h1, :font__local__default, :font__current__h1, :font__current__default]]"
      ]
     },
     "execution_count": 13,
     "metadata": {},
     "output_type": "execute_result"
    }
   ],
   "source": [
    "require '/Users/andreasbanholzer/PROJEKTE/2021-05-27--github-profile/3/markdown_titles_to_svg/lib/markdown_titles_to_svg.rb'\n",
    "params = MarkdownTitlesToSvg.get_options()\n",
    "lists = get_allow_list( params )"
   ]
  },
  {
   "cell_type": "markdown",
   "id": "8a2f485f",
   "metadata": {},
   "source": [
    "## Google Fonts Download"
   ]
  },
  {
   "cell_type": "code",
   "execution_count": null,
   "id": "cfa2a1b8",
   "metadata": {},
   "outputs": [],
   "source": [
    "google_fonts_download( 'Amatic SC', '700', 'latin', 'test.ttf' )"
   ]
  },
  {
   "cell_type": "code",
   "execution_count": 15,
   "id": "37d635c7",
   "metadata": {},
   "outputs": [
    {
     "data": {
      "text/plain": [
       "[:github__source, :font__text_align, :font__bold, :font__mode__h1, :font__mode__default, :font__google_fonts__h1__name, :font__google_fonts__h1__variant, :font__google_fonts__h1__subset, :font__google_fonts__default__name, :font__google_fonts__default__variant, :font__google_fonts__default__subset, :view__offset__height, :view__offset__widht, :style__h1__color__opacity, :style__h1__color__default, :style__h1__color__palette, :style__h1__stroke__color, :style__h1__stroke__width, :style__h1__stroke__opacity, :style__h1__stroke__linecap, :style__default__color__opacity, :style__default__color__default, :style__default__color__palette, :style__default__stroke__color, :style__default__stroke__width, :style__default__stroke__opacity, :style__default__stroke__linecap]"
      ]
     },
     "execution_count": 15,
     "metadata": {},
     "output_type": "execute_result"
    }
   ],
   "source": [
    "lists[ 0 ]"
   ]
  },
  {
   "cell_type": "code",
   "execution_count": 77,
   "id": "461ffac7",
   "metadata": {},
   "outputs": [
    {
     "data": {
      "text/plain": [
       "\"     test\""
      ]
     },
     "execution_count": 77,
     "metadata": {},
     "output_type": "execute_result"
    }
   ],
   "source": [
    "str = \"#  # #  test\"\n",
    "str.gsub('#', '')"
   ]
  },
  {
   "cell_type": "code",
   "execution_count": 21,
   "id": "3c3f3e69",
   "metadata": {},
   "outputs": [],
   "source": [
    "str = 'dedest.svg'\n",
    "str[ str.length-45, str.length]"
   ]
  },
  {
   "cell_type": "code",
   "execution_count": 25,
   "id": "08133ce4",
   "metadata": {},
   "outputs": [
    {
     "data": {
      "text/plain": [
       "1624037044"
      ]
     },
     "execution_count": 25,
     "metadata": {},
     "output_type": "execute_result"
    }
   ],
   "source": [
    "s = 1624037044\n"
   ]
  },
  {
   "cell_type": "code",
   "execution_count": null,
   "id": "d74c2adf",
   "metadata": {},
   "outputs": [
    {
     "ename": "NoMethodError",
     "evalue": "undefined method `parse' for Time:Class",
     "output_type": "error",
     "traceback": [
      "\u001b[31mNoMethodError\u001b[0m: undefined method `parse' for Time:Class",
      "(eval):1:in `<main>'",
      "/Users/andreasbanholzer/.rvm/gems/ruby-3.0.0-latest/gems/iruby-0.4.0/lib/iruby/backend.rb:44:in `eval'",
      "/Users/andreasbanholzer/.rvm/gems/ruby-3.0.0-latest/gems/iruby-0.4.0/lib/iruby/backend.rb:44:in `eval'",
      "/Users/andreasbanholzer/.rvm/gems/ruby-3.0.0-latest/gems/iruby-0.4.0/lib/iruby/backend.rb:12:in `eval'",
      "/Users/andreasbanholzer/.rvm/gems/ruby-3.0.0-latest/gems/iruby-0.4.0/lib/iruby/kernel.rb:90:in `execute_request'",
      "/Users/andreasbanholzer/.rvm/gems/ruby-3.0.0-latest/gems/iruby-0.4.0/lib/iruby/kernel.rb:49:in `dispatch'",
      "/Users/andreasbanholzer/.rvm/gems/ruby-3.0.0-latest/gems/iruby-0.4.0/lib/iruby/kernel.rb:38:in `run'",
      "/Users/andreasbanholzer/.rvm/gems/ruby-3.0.0-latest/gems/iruby-0.4.0/lib/iruby/command.rb:110:in `run_kernel'",
      "/Users/andreasbanholzer/.rvm/gems/ruby-3.0.0-latest/gems/iruby-0.4.0/lib/iruby/command.rb:40:in `run'",
      "/Users/andreasbanholzer/.rvm/gems/ruby-3.0.0-latest/gems/iruby-0.4.0/bin/iruby:5:in `<top (required)>'",
      "/Users/andreasbanholzer/.rvm/gems/ruby-3.0.0-latest/bin/iruby:23:in `load'",
      "/Users/andreasbanholzer/.rvm/gems/ruby-3.0.0-latest/bin/iruby:23:in `<main>'"
     ]
    }
   ],
   "source": [
    "Time.parse( s )"
   ]
  },
  {
   "cell_type": "code",
   "execution_count": 37,
   "id": "1f51104d",
   "metadata": {},
   "outputs": [
    {
     "data": {
      "text/plain": [
       "\"default-1624037555.ttf\""
      ]
     },
     "execution_count": 37,
     "metadata": {},
     "output_type": "execute_result"
    }
   ],
   "source": [
    "s = \"default-#{Time.now.getutc.to_i}.ttf\"\n"
   ]
  },
  {
   "cell_type": "code",
   "execution_count": 39,
   "id": "6a31e602",
   "metadata": {},
   "outputs": [
    {
     "data": {
      "text/plain": [
       "true"
      ]
     },
     "execution_count": 39,
     "metadata": {},
     "output_type": "execute_result"
    }
   ],
   "source": [
    "Time.now.getutc.to_i - s"
   ]
  },
  {
   "cell_type": "code",
   "execution_count": 28,
   "id": "8569fb32",
   "metadata": {},
   "outputs": [
    {
     "data": {
      "text/plain": [
       "1624037260"
      ]
     },
     "execution_count": 28,
     "metadata": {},
     "output_type": "execute_result"
    }
   ],
   "source": [
    "Time.now.getutc.to_i"
   ]
  },
  {
   "cell_type": "code",
   "execution_count": null,
   "id": "998b4387",
   "metadata": {},
   "outputs": [],
   "source": []
  }
 ],
 "metadata": {
  "kernelspec": {
   "display_name": "Ruby 3.0.0",
   "language": "ruby",
   "name": "ruby"
  },
  "language_info": {
   "file_extension": ".rb",
   "mimetype": "application/x-ruby",
   "name": "ruby",
   "version": "3.0.0"
  }
 },
 "nbformat": 4,
 "nbformat_minor": 5
}
